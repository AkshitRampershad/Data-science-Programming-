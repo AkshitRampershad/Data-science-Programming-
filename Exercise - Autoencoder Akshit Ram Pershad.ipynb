{
 "cells": [
  {
   "cell_type": "markdown",
   "metadata": {},
   "source": [
    "# Exercise - Autoencoder"
   ]
  },
  {
   "cell_type": "markdown",
   "metadata": {},
   "source": [
    "The data set for this exercise is from the banking industry. It contains data about the home loans of 2,500 bank clients. Each row represents a single loan. The columns include the characteristics of the client who used a loan. We will build an autoencoder to learn the representation of good loans. That way, we can see if an unknown loan will be a good or bad loan based on its reconstruction error.  \n",
    "\n",
    "Note: in the data set, we don't have a column that indicates whether a loan is \"good\" or \"bad\". So, we can't train a classification model like we did before."
   ]
  },
  {
   "cell_type": "markdown",
   "metadata": {},
   "source": [
    "## Description of Variables\n",
    "\n",
    "The description of variables are provided in \"Loan - Data Dictionary.docx\""
   ]
  },
  {
   "cell_type": "markdown",
   "metadata": {},
   "source": [
    "# Read and Prepare the Data"
   ]
  },
  {
   "cell_type": "code",
   "execution_count": 1,
   "metadata": {},
   "outputs": [],
   "source": [
    "# Common imports\n",
    "\n",
    "import pandas as pd\n",
    "import numpy as np\n",
    "\n",
    "np.random.seed(42)"
   ]
  },
  {
   "cell_type": "markdown",
   "metadata": {},
   "source": [
    "# Get the data"
   ]
  },
  {
   "cell_type": "code",
   "execution_count": 2,
   "metadata": {},
   "outputs": [],
   "source": [
    "good = pd.read_csv('good loans.csv')\n",
    "\n",
    "unknown = pd.read_csv('unknown loans.csv')"
   ]
  },
  {
   "cell_type": "code",
   "execution_count": 3,
   "metadata": {},
   "outputs": [
    {
     "data": {
      "text/html": [
       "<div>\n",
       "<style scoped>\n",
       "    .dataframe tbody tr th:only-of-type {\n",
       "        vertical-align: middle;\n",
       "    }\n",
       "\n",
       "    .dataframe tbody tr th {\n",
       "        vertical-align: top;\n",
       "    }\n",
       "\n",
       "    .dataframe thead th {\n",
       "        text-align: right;\n",
       "    }\n",
       "</style>\n",
       "<table border=\"1\" class=\"dataframe\">\n",
       "  <thead>\n",
       "    <tr style=\"text-align: right;\">\n",
       "      <th></th>\n",
       "      <th>LOAN</th>\n",
       "      <th>MORTDUE</th>\n",
       "      <th>VALUE</th>\n",
       "      <th>REASON</th>\n",
       "      <th>JOB</th>\n",
       "      <th>YOJ</th>\n",
       "      <th>DEROG</th>\n",
       "      <th>DELINQ</th>\n",
       "      <th>CLAGE</th>\n",
       "      <th>NINQ</th>\n",
       "      <th>CLNO</th>\n",
       "      <th>DEBTINC</th>\n",
       "    </tr>\n",
       "  </thead>\n",
       "  <tbody>\n",
       "    <tr>\n",
       "      <th>0</th>\n",
       "      <td>25900</td>\n",
       "      <td>61064.0</td>\n",
       "      <td>94714.0</td>\n",
       "      <td>DebtCon</td>\n",
       "      <td>Office</td>\n",
       "      <td>2.0</td>\n",
       "      <td>0.0</td>\n",
       "      <td>0.0</td>\n",
       "      <td>98.809375</td>\n",
       "      <td>0.0</td>\n",
       "      <td>23.0</td>\n",
       "      <td>34.565944</td>\n",
       "    </tr>\n",
       "    <tr>\n",
       "      <th>1</th>\n",
       "      <td>26100</td>\n",
       "      <td>113266.0</td>\n",
       "      <td>182082.0</td>\n",
       "      <td>DebtCon</td>\n",
       "      <td>Sales</td>\n",
       "      <td>18.0</td>\n",
       "      <td>0.0</td>\n",
       "      <td>0.0</td>\n",
       "      <td>304.852469</td>\n",
       "      <td>1.0</td>\n",
       "      <td>31.0</td>\n",
       "      <td>33.193949</td>\n",
       "    </tr>\n",
       "    <tr>\n",
       "      <th>2</th>\n",
       "      <td>20900</td>\n",
       "      <td>62615.0</td>\n",
       "      <td>87904.0</td>\n",
       "      <td>DebtCon</td>\n",
       "      <td>Office</td>\n",
       "      <td>5.0</td>\n",
       "      <td>NaN</td>\n",
       "      <td>NaN</td>\n",
       "      <td>177.864849</td>\n",
       "      <td>NaN</td>\n",
       "      <td>15.0</td>\n",
       "      <td>36.831076</td>\n",
       "    </tr>\n",
       "    <tr>\n",
       "      <th>3</th>\n",
       "      <td>25300</td>\n",
       "      <td>62540.0</td>\n",
       "      <td>101165.0</td>\n",
       "      <td>DebtCon</td>\n",
       "      <td>ProfExe</td>\n",
       "      <td>0.0</td>\n",
       "      <td>0.0</td>\n",
       "      <td>0.0</td>\n",
       "      <td>195.451331</td>\n",
       "      <td>0.0</td>\n",
       "      <td>25.0</td>\n",
       "      <td>35.200865</td>\n",
       "    </tr>\n",
       "    <tr>\n",
       "      <th>4</th>\n",
       "      <td>27700</td>\n",
       "      <td>73148.0</td>\n",
       "      <td>101462.0</td>\n",
       "      <td>DebtCon</td>\n",
       "      <td>ProfExe</td>\n",
       "      <td>10.0</td>\n",
       "      <td>0.0</td>\n",
       "      <td>0.0</td>\n",
       "      <td>264.605389</td>\n",
       "      <td>0.0</td>\n",
       "      <td>33.0</td>\n",
       "      <td>40.475793</td>\n",
       "    </tr>\n",
       "  </tbody>\n",
       "</table>\n",
       "</div>"
      ],
      "text/plain": [
       "    LOAN   MORTDUE     VALUE   REASON      JOB   YOJ  DEROG  DELINQ  \\\n",
       "0  25900   61064.0   94714.0  DebtCon   Office   2.0    0.0     0.0   \n",
       "1  26100  113266.0  182082.0  DebtCon    Sales  18.0    0.0     0.0   \n",
       "2  20900   62615.0   87904.0  DebtCon   Office   5.0    NaN     NaN   \n",
       "3  25300   62540.0  101165.0  DebtCon  ProfExe   0.0    0.0     0.0   \n",
       "4  27700   73148.0  101462.0  DebtCon  ProfExe  10.0    0.0     0.0   \n",
       "\n",
       "        CLAGE  NINQ  CLNO    DEBTINC  \n",
       "0   98.809375   0.0  23.0  34.565944  \n",
       "1  304.852469   1.0  31.0  33.193949  \n",
       "2  177.864849   NaN  15.0  36.831076  \n",
       "3  195.451331   0.0  25.0  35.200865  \n",
       "4  264.605389   0.0  33.0  40.475793  "
      ]
     },
     "execution_count": 3,
     "metadata": {},
     "output_type": "execute_result"
    }
   ],
   "source": [
    "# Note that there is no GOOD/BAD classification. Though, we know that\n",
    "# these loans are good\n",
    "\n",
    "good.head()"
   ]
  },
  {
   "cell_type": "code",
   "execution_count": 4,
   "metadata": {},
   "outputs": [
    {
     "data": {
      "text/plain": [
       "(1489, 12)"
      ]
     },
     "execution_count": 4,
     "metadata": {},
     "output_type": "execute_result"
    }
   ],
   "source": [
    "good.shape"
   ]
  },
  {
   "cell_type": "code",
   "execution_count": 5,
   "metadata": {},
   "outputs": [
    {
     "data": {
      "text/plain": [
       "(1011, 12)"
      ]
     },
     "execution_count": 5,
     "metadata": {},
     "output_type": "execute_result"
    }
   ],
   "source": [
    "unknown.shape"
   ]
  },
  {
   "cell_type": "markdown",
   "metadata": {},
   "source": [
    "# Data Prep"
   ]
  },
  {
   "cell_type": "code",
   "execution_count": 6,
   "metadata": {},
   "outputs": [],
   "source": [
    "from sklearn.compose import ColumnTransformer\n",
    "from sklearn.pipeline import Pipeline\n",
    "from sklearn.impute import SimpleImputer\n",
    "from sklearn.preprocessing import StandardScaler\n",
    "from sklearn.preprocessing import OneHotEncoder"
   ]
  },
  {
   "cell_type": "markdown",
   "metadata": {},
   "source": [
    "##  Identify the numeric, binary, and categorical columns"
   ]
  },
  {
   "cell_type": "code",
   "execution_count": 7,
   "metadata": {},
   "outputs": [],
   "source": [
    "# Identify the numerical columns\n",
    "numeric_columns = good.select_dtypes(include=[np.number]).columns.to_list()\n",
    "\n",
    "# Identify the categorical columns\n",
    "categorical_columns = good.select_dtypes('object').columns.to_list()"
   ]
  },
  {
   "cell_type": "code",
   "execution_count": 8,
   "metadata": {},
   "outputs": [
    {
     "data": {
      "text/plain": [
       "['LOAN',\n",
       " 'MORTDUE',\n",
       " 'VALUE',\n",
       " 'YOJ',\n",
       " 'DEROG',\n",
       " 'DELINQ',\n",
       " 'CLAGE',\n",
       " 'NINQ',\n",
       " 'CLNO',\n",
       " 'DEBTINC']"
      ]
     },
     "execution_count": 8,
     "metadata": {},
     "output_type": "execute_result"
    }
   ],
   "source": [
    "numeric_columns"
   ]
  },
  {
   "cell_type": "code",
   "execution_count": 9,
   "metadata": {},
   "outputs": [
    {
     "data": {
      "text/plain": [
       "['REASON', 'JOB']"
      ]
     },
     "execution_count": 9,
     "metadata": {},
     "output_type": "execute_result"
    }
   ],
   "source": [
    "categorical_columns"
   ]
  },
  {
   "cell_type": "markdown",
   "metadata": {},
   "source": [
    "# Pipeline"
   ]
  },
  {
   "cell_type": "code",
   "execution_count": 10,
   "metadata": {},
   "outputs": [],
   "source": [
    "numeric_transformer = Pipeline(steps=[\n",
    "                ('imputer', SimpleImputer(strategy='median')),\n",
    "                ('scaler', StandardScaler())])"
   ]
  },
  {
   "cell_type": "code",
   "execution_count": 11,
   "metadata": {},
   "outputs": [],
   "source": [
    "categorical_transformer = Pipeline(steps=[\n",
    "    ('imputer', SimpleImputer(strategy='constant', fill_value='unknown')),\n",
    "    ('onehot', OneHotEncoder(handle_unknown='ignore'))])"
   ]
  },
  {
   "cell_type": "code",
   "execution_count": 12,
   "metadata": {},
   "outputs": [],
   "source": [
    "preprocessor = ColumnTransformer([\n",
    "        ('num', numeric_transformer, numeric_columns),\n",
    "        ('cat', categorical_transformer, categorical_columns)],   \n",
    "        remainder='passthrough')\n",
    "\n",
    "#passtrough is an optional step. You don't have to use it."
   ]
  },
  {
   "cell_type": "markdown",
   "metadata": {},
   "source": [
    "# Transform: fit_transform() for GOOD"
   ]
  },
  {
   "cell_type": "code",
   "execution_count": 13,
   "metadata": {},
   "outputs": [
    {
     "data": {
      "text/plain": [
       "array([[ 0.6365782 , -0.29793911, -0.12177109, ...,  0.        ,\n",
       "         0.        ,  0.        ],\n",
       "       [ 0.6546228 ,  1.02893596,  1.62034212, ...,  1.        ,\n",
       "         0.        ,  0.        ],\n",
       "       [ 0.18546313, -0.25851565, -0.25756212, ...,  0.        ,\n",
       "         0.        ,  0.        ],\n",
       "       ...,\n",
       "       [ 4.18234262, -0.04383447,  0.81444926, ...,  0.        ,\n",
       "         0.        ,  0.        ],\n",
       "       [-1.30321659, -0.47828045, -0.73681873, ...,  0.        ,\n",
       "         0.        ,  0.        ],\n",
       "       [ 0.03208401, -0.46521555, -0.38146895, ...,  0.        ,\n",
       "         0.        ,  0.        ]])"
      ]
     },
     "execution_count": 13,
     "metadata": {},
     "output_type": "execute_result"
    }
   ],
   "source": [
    "#Fit and transform the train data\n",
    "good_x = preprocessor.fit_transform(good)\n",
    "\n",
    "good_x"
   ]
  },
  {
   "cell_type": "code",
   "execution_count": 14,
   "metadata": {},
   "outputs": [
    {
     "data": {
      "text/plain": [
       "(1489, 20)"
      ]
     },
     "execution_count": 14,
     "metadata": {},
     "output_type": "execute_result"
    }
   ],
   "source": [
    "good_x.shape"
   ]
  },
  {
   "cell_type": "markdown",
   "metadata": {},
   "source": [
    "# Tranform: transform() for UNKNOWN"
   ]
  },
  {
   "cell_type": "code",
   "execution_count": 15,
   "metadata": {},
   "outputs": [
    {
     "data": {
      "text/plain": [
       "array([[ 2.81095281,  3.755331  ,  3.98956663, ...,  0.        ,\n",
       "         1.        ,  0.        ],\n",
       "       [ 0.32079765, -0.54180025, -0.65167516, ...,  0.        ,\n",
       "         0.        ,  0.        ],\n",
       "       [ 0.19448543,  0.59006724,  0.48213012, ...,  1.        ,\n",
       "         0.        ,  0.        ],\n",
       "       ...,\n",
       "       [-0.79796772,  0.05628738,  0.05541527, ...,  0.        ,\n",
       "         0.        ,  0.        ],\n",
       "       [-0.16640662, -0.510536  , -0.45504735, ...,  0.        ,\n",
       "         0.        ,  0.        ],\n",
       "       [-0.81601232, -0.92230904, -0.93360606, ...,  0.        ,\n",
       "         0.        ,  0.        ]])"
      ]
     },
     "execution_count": 15,
     "metadata": {},
     "output_type": "execute_result"
    }
   ],
   "source": [
    "# Transform the test data\n",
    "unknown_x = preprocessor.transform(unknown)\n",
    "\n",
    "unknown_x"
   ]
  },
  {
   "cell_type": "code",
   "execution_count": 16,
   "metadata": {},
   "outputs": [
    {
     "data": {
      "text/plain": [
       "(1011, 20)"
      ]
     },
     "execution_count": 16,
     "metadata": {},
     "output_type": "execute_result"
    }
   ],
   "source": [
    "unknown_x.shape"
   ]
  },
  {
   "cell_type": "markdown",
   "metadata": {},
   "source": [
    "# Build an Autoencoder to learn the representation of GOOD loans"
   ]
  },
  {
   "cell_type": "code",
   "execution_count": 17,
   "metadata": {},
   "outputs": [],
   "source": [
    "import tensorflow as tf\n",
    "from tensorflow import keras"
   ]
  },
  {
   "cell_type": "code",
   "execution_count": 18,
   "metadata": {},
   "outputs": [
    {
     "name": "stdout",
     "output_type": "stream",
     "text": [
      "Model: \"sequential\"\n",
      "_________________________________________________________________\n",
      " Layer (type)                Output Shape              Param #   \n",
      "=================================================================\n",
      " dense (Dense)               (None, 14)                294       \n",
      "                                                                 \n",
      " dense_1 (Dense)             (None, 11)                165       \n",
      "                                                                 \n",
      " dense_2 (Dense)             (None, 14)                168       \n",
      "                                                                 \n",
      " dense_3 (Dense)             (None, 20)                300       \n",
      "                                                                 \n",
      "=================================================================\n",
      "Total params: 927\n",
      "Trainable params: 927\n",
      "Non-trainable params: 0\n",
      "_________________________________________________________________\n"
     ]
    }
   ],
   "source": [
    "model = keras.models.Sequential()\n",
    "\n",
    "#Encoder\n",
    "model.add(keras.layers.InputLayer(input_shape=20))\n",
    "model.add(keras.layers.Dense(14, activation='relu'))\n",
    "model.add(keras.layers.Dense(11, activation='relu'))\n",
    "\n",
    "#Decoder\n",
    "model.add(keras.layers.Dense(14,activation='relu'))\n",
    "model.add(keras.layers.Dense(20,activation=None))\n",
    "\n",
    "model.summary()"
   ]
  },
  {
   "cell_type": "code",
   "execution_count": 19,
   "metadata": {},
   "outputs": [],
   "source": [
    "adam = keras.optimizers.Adam(learning_rate=0.001)\n",
    "\n",
    "\n",
    "model.compile(loss='mse', optimizer='Nadam', metrics=['mean_squared_error'])"
   ]
  },
  {
   "cell_type": "code",
   "execution_count": 20,
   "metadata": {},
   "outputs": [],
   "source": [
    "from tensorflow.keras.callbacks import EarlyStopping\n",
    "\n",
    "earlystop = EarlyStopping(monitor='val_loss', patience=5, verbose=1, mode='auto')\n",
    "\n",
    "callback = [earlystop]"
   ]
  },
  {
   "cell_type": "code",
   "execution_count": 21,
   "metadata": {},
   "outputs": [
    {
     "name": "stdout",
     "output_type": "stream",
     "text": [
      "Epoch 1/100\n",
      "75/75 [==============================] - 4s 10ms/step - loss: 0.6017 - mean_squared_error: 0.6017 - val_loss: 0.5460 - val_mean_squared_error: 0.5460\n",
      "Epoch 2/100\n",
      "75/75 [==============================] - 0s 6ms/step - loss: 0.5108 - mean_squared_error: 0.5108 - val_loss: 0.4701 - val_mean_squared_error: 0.4701\n",
      "Epoch 3/100\n",
      "75/75 [==============================] - 0s 6ms/step - loss: 0.4353 - mean_squared_error: 0.4353 - val_loss: 0.3996 - val_mean_squared_error: 0.3996\n",
      "Epoch 4/100\n",
      "75/75 [==============================] - 0s 6ms/step - loss: 0.3750 - mean_squared_error: 0.3750 - val_loss: 0.3478 - val_mean_squared_error: 0.3478\n",
      "Epoch 5/100\n",
      "75/75 [==============================] - 0s 6ms/step - loss: 0.3249 - mean_squared_error: 0.3249 - val_loss: 0.2979 - val_mean_squared_error: 0.2979\n",
      "Epoch 6/100\n",
      "75/75 [==============================] - 0s 5ms/step - loss: 0.2783 - mean_squared_error: 0.2783 - val_loss: 0.2565 - val_mean_squared_error: 0.2565\n",
      "Epoch 7/100\n",
      "75/75 [==============================] - 0s 5ms/step - loss: 0.2413 - mean_squared_error: 0.2413 - val_loss: 0.2229 - val_mean_squared_error: 0.2229\n",
      "Epoch 8/100\n",
      "75/75 [==============================] - 0s 6ms/step - loss: 0.2116 - mean_squared_error: 0.2116 - val_loss: 0.1979 - val_mean_squared_error: 0.1979\n",
      "Epoch 9/100\n",
      "75/75 [==============================] - 0s 6ms/step - loss: 0.1882 - mean_squared_error: 0.1882 - val_loss: 0.1762 - val_mean_squared_error: 0.1762\n",
      "Epoch 10/100\n",
      "75/75 [==============================] - 0s 6ms/step - loss: 0.1674 - mean_squared_error: 0.1674 - val_loss: 0.1555 - val_mean_squared_error: 0.1555\n",
      "Epoch 11/100\n",
      "75/75 [==============================] - 0s 6ms/step - loss: 0.1472 - mean_squared_error: 0.1472 - val_loss: 0.1368 - val_mean_squared_error: 0.1368\n",
      "Epoch 12/100\n",
      "75/75 [==============================] - 0s 6ms/step - loss: 0.1303 - mean_squared_error: 0.1303 - val_loss: 0.1236 - val_mean_squared_error: 0.1236\n",
      "Epoch 13/100\n",
      "75/75 [==============================] - 0s 6ms/step - loss: 0.1182 - mean_squared_error: 0.1182 - val_loss: 0.1124 - val_mean_squared_error: 0.1124\n",
      "Epoch 14/100\n",
      "75/75 [==============================] - 0s 6ms/step - loss: 0.1086 - mean_squared_error: 0.1086 - val_loss: 0.1045 - val_mean_squared_error: 0.1045\n",
      "Epoch 15/100\n",
      "75/75 [==============================] - 0s 6ms/step - loss: 0.1012 - mean_squared_error: 0.1012 - val_loss: 0.0967 - val_mean_squared_error: 0.0967\n",
      "Epoch 16/100\n",
      "75/75 [==============================] - 0s 6ms/step - loss: 0.0941 - mean_squared_error: 0.0941 - val_loss: 0.0903 - val_mean_squared_error: 0.0903\n",
      "Epoch 17/100\n",
      "75/75 [==============================] - 0s 5ms/step - loss: 0.0877 - mean_squared_error: 0.0877 - val_loss: 0.0836 - val_mean_squared_error: 0.0836\n",
      "Epoch 18/100\n",
      "75/75 [==============================] - 0s 5ms/step - loss: 0.0798 - mean_squared_error: 0.0798 - val_loss: 0.0748 - val_mean_squared_error: 0.0748\n",
      "Epoch 19/100\n",
      "75/75 [==============================] - 0s 5ms/step - loss: 0.0719 - mean_squared_error: 0.0719 - val_loss: 0.0693 - val_mean_squared_error: 0.0693\n",
      "Epoch 20/100\n",
      "75/75 [==============================] - 0s 6ms/step - loss: 0.0675 - mean_squared_error: 0.0675 - val_loss: 0.0651 - val_mean_squared_error: 0.0651\n",
      "Epoch 21/100\n",
      "75/75 [==============================] - 0s 6ms/step - loss: 0.0647 - mean_squared_error: 0.0647 - val_loss: 0.0633 - val_mean_squared_error: 0.0633\n",
      "Epoch 22/100\n",
      "75/75 [==============================] - 0s 6ms/step - loss: 0.0627 - mean_squared_error: 0.0627 - val_loss: 0.0616 - val_mean_squared_error: 0.0616\n",
      "Epoch 23/100\n",
      "75/75 [==============================] - 0s 6ms/step - loss: 0.0610 - mean_squared_error: 0.0610 - val_loss: 0.0599 - val_mean_squared_error: 0.0599\n",
      "Epoch 24/100\n",
      "75/75 [==============================] - 0s 6ms/step - loss: 0.0595 - mean_squared_error: 0.0595 - val_loss: 0.0582 - val_mean_squared_error: 0.0582\n",
      "Epoch 25/100\n",
      "75/75 [==============================] - 0s 6ms/step - loss: 0.0582 - mean_squared_error: 0.0582 - val_loss: 0.0578 - val_mean_squared_error: 0.0578\n",
      "Epoch 26/100\n",
      "75/75 [==============================] - 0s 6ms/step - loss: 0.0574 - mean_squared_error: 0.0574 - val_loss: 0.0570 - val_mean_squared_error: 0.0570\n",
      "Epoch 27/100\n",
      "75/75 [==============================] - 0s 6ms/step - loss: 0.0564 - mean_squared_error: 0.0564 - val_loss: 0.0556 - val_mean_squared_error: 0.0556\n",
      "Epoch 28/100\n",
      "75/75 [==============================] - 0s 6ms/step - loss: 0.0555 - mean_squared_error: 0.0555 - val_loss: 0.0549 - val_mean_squared_error: 0.0549\n",
      "Epoch 29/100\n",
      "75/75 [==============================] - 0s 5ms/step - loss: 0.0547 - mean_squared_error: 0.0547 - val_loss: 0.0545 - val_mean_squared_error: 0.0545\n",
      "Epoch 30/100\n",
      "75/75 [==============================] - 0s 5ms/step - loss: 0.0541 - mean_squared_error: 0.0541 - val_loss: 0.0531 - val_mean_squared_error: 0.0531\n",
      "Epoch 31/100\n",
      "75/75 [==============================] - 0s 6ms/step - loss: 0.0531 - mean_squared_error: 0.0531 - val_loss: 0.0526 - val_mean_squared_error: 0.0526\n",
      "Epoch 32/100\n",
      "75/75 [==============================] - 0s 5ms/step - loss: 0.0526 - mean_squared_error: 0.0526 - val_loss: 0.0522 - val_mean_squared_error: 0.0522\n",
      "Epoch 33/100\n",
      "75/75 [==============================] - 0s 5ms/step - loss: 0.0520 - mean_squared_error: 0.0520 - val_loss: 0.0521 - val_mean_squared_error: 0.0521\n",
      "Epoch 34/100\n",
      "75/75 [==============================] - 0s 5ms/step - loss: 0.0513 - mean_squared_error: 0.0513 - val_loss: 0.0507 - val_mean_squared_error: 0.0507\n",
      "Epoch 35/100\n",
      "75/75 [==============================] - 0s 6ms/step - loss: 0.0507 - mean_squared_error: 0.0507 - val_loss: 0.0501 - val_mean_squared_error: 0.0501\n",
      "Epoch 36/100\n",
      "75/75 [==============================] - 0s 6ms/step - loss: 0.0500 - mean_squared_error: 0.0500 - val_loss: 0.0496 - val_mean_squared_error: 0.0496\n",
      "Epoch 37/100\n",
      "75/75 [==============================] - 0s 5ms/step - loss: 0.0494 - mean_squared_error: 0.0494 - val_loss: 0.0488 - val_mean_squared_error: 0.0488\n",
      "Epoch 38/100\n",
      "75/75 [==============================] - 0s 6ms/step - loss: 0.0489 - mean_squared_error: 0.0489 - val_loss: 0.0488 - val_mean_squared_error: 0.0488\n",
      "Epoch 39/100\n",
      "75/75 [==============================] - 0s 5ms/step - loss: 0.0484 - mean_squared_error: 0.0484 - val_loss: 0.0486 - val_mean_squared_error: 0.0486\n",
      "Epoch 40/100\n",
      "75/75 [==============================] - 0s 5ms/step - loss: 0.0477 - mean_squared_error: 0.0477 - val_loss: 0.0473 - val_mean_squared_error: 0.0473\n",
      "Epoch 41/100\n",
      "75/75 [==============================] - 0s 6ms/step - loss: 0.0474 - mean_squared_error: 0.0474 - val_loss: 0.0469 - val_mean_squared_error: 0.0469\n",
      "Epoch 42/100\n",
      "75/75 [==============================] - 0s 6ms/step - loss: 0.0468 - mean_squared_error: 0.0468 - val_loss: 0.0462 - val_mean_squared_error: 0.0462\n",
      "Epoch 43/100\n",
      "75/75 [==============================] - 0s 6ms/step - loss: 0.0464 - mean_squared_error: 0.0464 - val_loss: 0.0458 - val_mean_squared_error: 0.0458\n",
      "Epoch 44/100\n",
      "75/75 [==============================] - 0s 6ms/step - loss: 0.0459 - mean_squared_error: 0.0459 - val_loss: 0.0456 - val_mean_squared_error: 0.0456\n",
      "Epoch 45/100\n",
      "75/75 [==============================] - 0s 6ms/step - loss: 0.0454 - mean_squared_error: 0.0454 - val_loss: 0.0454 - val_mean_squared_error: 0.0454\n",
      "Epoch 46/100\n",
      "75/75 [==============================] - 0s 6ms/step - loss: 0.0452 - mean_squared_error: 0.0452 - val_loss: 0.0443 - val_mean_squared_error: 0.0443\n",
      "Epoch 47/100\n",
      "75/75 [==============================] - 0s 6ms/step - loss: 0.0447 - mean_squared_error: 0.0447 - val_loss: 0.0440 - val_mean_squared_error: 0.0440\n",
      "Epoch 48/100\n",
      "75/75 [==============================] - 0s 6ms/step - loss: 0.0441 - mean_squared_error: 0.0441 - val_loss: 0.0438 - val_mean_squared_error: 0.0438\n",
      "Epoch 49/100\n",
      "75/75 [==============================] - 0s 5ms/step - loss: 0.0439 - mean_squared_error: 0.0439 - val_loss: 0.0433 - val_mean_squared_error: 0.0433\n",
      "Epoch 50/100\n",
      "75/75 [==============================] - 0s 6ms/step - loss: 0.0435 - mean_squared_error: 0.0435 - val_loss: 0.0429 - val_mean_squared_error: 0.0429\n",
      "Epoch 51/100\n"
     ]
    },
    {
     "name": "stdout",
     "output_type": "stream",
     "text": [
      "75/75 [==============================] - 0s 6ms/step - loss: 0.0431 - mean_squared_error: 0.0431 - val_loss: 0.0424 - val_mean_squared_error: 0.0424\n",
      "Epoch 52/100\n",
      "75/75 [==============================] - 0s 6ms/step - loss: 0.0429 - mean_squared_error: 0.0429 - val_loss: 0.0423 - val_mean_squared_error: 0.0423\n",
      "Epoch 53/100\n",
      "75/75 [==============================] - 0s 6ms/step - loss: 0.0422 - mean_squared_error: 0.0422 - val_loss: 0.0423 - val_mean_squared_error: 0.0423\n",
      "Epoch 54/100\n",
      "75/75 [==============================] - 0s 6ms/step - loss: 0.0421 - mean_squared_error: 0.0421 - val_loss: 0.0415 - val_mean_squared_error: 0.0415\n",
      "Epoch 55/100\n",
      "75/75 [==============================] - 0s 6ms/step - loss: 0.0418 - mean_squared_error: 0.0418 - val_loss: 0.0420 - val_mean_squared_error: 0.0420\n",
      "Epoch 56/100\n",
      "75/75 [==============================] - 0s 6ms/step - loss: 0.0415 - mean_squared_error: 0.0415 - val_loss: 0.0407 - val_mean_squared_error: 0.0407\n",
      "Epoch 57/100\n",
      "75/75 [==============================] - 0s 6ms/step - loss: 0.0410 - mean_squared_error: 0.0410 - val_loss: 0.0408 - val_mean_squared_error: 0.0408\n",
      "Epoch 58/100\n",
      "75/75 [==============================] - 0s 6ms/step - loss: 0.0406 - mean_squared_error: 0.0406 - val_loss: 0.0402 - val_mean_squared_error: 0.0402\n",
      "Epoch 59/100\n",
      "75/75 [==============================] - 0s 6ms/step - loss: 0.0401 - mean_squared_error: 0.0401 - val_loss: 0.0405 - val_mean_squared_error: 0.0405\n",
      "Epoch 60/100\n",
      "75/75 [==============================] - 0s 6ms/step - loss: 0.0400 - mean_squared_error: 0.0400 - val_loss: 0.0397 - val_mean_squared_error: 0.0397\n",
      "Epoch 61/100\n",
      "75/75 [==============================] - 0s 6ms/step - loss: 0.0396 - mean_squared_error: 0.0396 - val_loss: 0.0391 - val_mean_squared_error: 0.0391\n",
      "Epoch 62/100\n",
      "75/75 [==============================] - 0s 6ms/step - loss: 0.0392 - mean_squared_error: 0.0392 - val_loss: 0.0391 - val_mean_squared_error: 0.0391\n",
      "Epoch 63/100\n",
      "75/75 [==============================] - 0s 6ms/step - loss: 0.0392 - mean_squared_error: 0.0392 - val_loss: 0.0389 - val_mean_squared_error: 0.0389\n",
      "Epoch 64/100\n",
      "75/75 [==============================] - 0s 7ms/step - loss: 0.0389 - mean_squared_error: 0.0389 - val_loss: 0.0385 - val_mean_squared_error: 0.0385\n",
      "Epoch 65/100\n",
      "75/75 [==============================] - 0s 6ms/step - loss: 0.0385 - mean_squared_error: 0.0385 - val_loss: 0.0386 - val_mean_squared_error: 0.0386\n",
      "Epoch 66/100\n",
      "75/75 [==============================] - 0s 6ms/step - loss: 0.0383 - mean_squared_error: 0.0383 - val_loss: 0.0383 - val_mean_squared_error: 0.0383\n",
      "Epoch 67/100\n",
      "75/75 [==============================] - 0s 6ms/step - loss: 0.0379 - mean_squared_error: 0.0379 - val_loss: 0.0375 - val_mean_squared_error: 0.0375\n",
      "Epoch 68/100\n",
      "75/75 [==============================] - 0s 6ms/step - loss: 0.0378 - mean_squared_error: 0.0378 - val_loss: 0.0374 - val_mean_squared_error: 0.0374\n",
      "Epoch 69/100\n",
      "75/75 [==============================] - 0s 6ms/step - loss: 0.0376 - mean_squared_error: 0.0376 - val_loss: 0.0378 - val_mean_squared_error: 0.0378\n",
      "Epoch 70/100\n",
      "75/75 [==============================] - 0s 6ms/step - loss: 0.0375 - mean_squared_error: 0.0375 - val_loss: 0.0376 - val_mean_squared_error: 0.0376\n",
      "Epoch 71/100\n",
      "75/75 [==============================] - 0s 6ms/step - loss: 0.0372 - mean_squared_error: 0.0372 - val_loss: 0.0367 - val_mean_squared_error: 0.0367\n",
      "Epoch 72/100\n",
      "75/75 [==============================] - 0s 6ms/step - loss: 0.0370 - mean_squared_error: 0.0370 - val_loss: 0.0372 - val_mean_squared_error: 0.0372\n",
      "Epoch 73/100\n",
      "75/75 [==============================] - 0s 6ms/step - loss: 0.0371 - mean_squared_error: 0.0371 - val_loss: 0.0365 - val_mean_squared_error: 0.0365\n",
      "Epoch 74/100\n",
      "75/75 [==============================] - 0s 6ms/step - loss: 0.0369 - mean_squared_error: 0.0369 - val_loss: 0.0369 - val_mean_squared_error: 0.0369\n",
      "Epoch 75/100\n",
      "75/75 [==============================] - 0s 6ms/step - loss: 0.0367 - mean_squared_error: 0.0367 - val_loss: 0.0364 - val_mean_squared_error: 0.0364\n",
      "Epoch 76/100\n",
      "75/75 [==============================] - 0s 6ms/step - loss: 0.0366 - mean_squared_error: 0.0366 - val_loss: 0.0362 - val_mean_squared_error: 0.0362\n",
      "Epoch 77/100\n",
      "75/75 [==============================] - 0s 6ms/step - loss: 0.0365 - mean_squared_error: 0.0365 - val_loss: 0.0362 - val_mean_squared_error: 0.0362\n",
      "Epoch 78/100\n",
      "75/75 [==============================] - 0s 5ms/step - loss: 0.0363 - mean_squared_error: 0.0363 - val_loss: 0.0358 - val_mean_squared_error: 0.0358\n",
      "Epoch 79/100\n",
      "75/75 [==============================] - 0s 6ms/step - loss: 0.0361 - mean_squared_error: 0.0361 - val_loss: 0.0360 - val_mean_squared_error: 0.0360\n",
      "Epoch 80/100\n",
      "75/75 [==============================] - 0s 6ms/step - loss: 0.0361 - mean_squared_error: 0.0361 - val_loss: 0.0359 - val_mean_squared_error: 0.0359\n",
      "Epoch 81/100\n",
      "75/75 [==============================] - 0s 5ms/step - loss: 0.0358 - mean_squared_error: 0.0358 - val_loss: 0.0360 - val_mean_squared_error: 0.0360\n",
      "Epoch 82/100\n",
      "75/75 [==============================] - 0s 6ms/step - loss: 0.0359 - mean_squared_error: 0.0359 - val_loss: 0.0362 - val_mean_squared_error: 0.0362\n",
      "Epoch 83/100\n",
      "75/75 [==============================] - 0s 6ms/step - loss: 0.0356 - mean_squared_error: 0.0356 - val_loss: 0.0357 - val_mean_squared_error: 0.0357\n",
      "Epoch 84/100\n",
      "75/75 [==============================] - 0s 6ms/step - loss: 0.0355 - mean_squared_error: 0.0355 - val_loss: 0.0369 - val_mean_squared_error: 0.0369\n",
      "Epoch 85/100\n",
      "75/75 [==============================] - 0s 6ms/step - loss: 0.0353 - mean_squared_error: 0.0353 - val_loss: 0.0352 - val_mean_squared_error: 0.0352\n",
      "Epoch 86/100\n",
      "75/75 [==============================] - 0s 6ms/step - loss: 0.0353 - mean_squared_error: 0.0353 - val_loss: 0.0352 - val_mean_squared_error: 0.0352\n",
      "Epoch 87/100\n",
      "75/75 [==============================] - 1s 7ms/step - loss: 0.0352 - mean_squared_error: 0.0352 - val_loss: 0.0352 - val_mean_squared_error: 0.0352\n",
      "Epoch 88/100\n",
      "75/75 [==============================] - 1s 7ms/step - loss: 0.0349 - mean_squared_error: 0.0349 - val_loss: 0.0348 - val_mean_squared_error: 0.0348\n",
      "Epoch 89/100\n",
      "75/75 [==============================] - 1s 7ms/step - loss: 0.0348 - mean_squared_error: 0.0348 - val_loss: 0.0347 - val_mean_squared_error: 0.0347\n",
      "Epoch 90/100\n",
      "75/75 [==============================] - 0s 7ms/step - loss: 0.0345 - mean_squared_error: 0.0345 - val_loss: 0.0367 - val_mean_squared_error: 0.0367\n",
      "Epoch 91/100\n",
      "75/75 [==============================] - 0s 6ms/step - loss: 0.0344 - mean_squared_error: 0.0344 - val_loss: 0.0344 - val_mean_squared_error: 0.0344\n",
      "Epoch 92/100\n",
      "75/75 [==============================] - 0s 7ms/step - loss: 0.0343 - mean_squared_error: 0.0343 - val_loss: 0.0337 - val_mean_squared_error: 0.0337\n",
      "Epoch 93/100\n",
      "75/75 [==============================] - 0s 6ms/step - loss: 0.0337 - mean_squared_error: 0.0337 - val_loss: 0.0333 - val_mean_squared_error: 0.0333\n",
      "Epoch 94/100\n",
      "75/75 [==============================] - 0s 7ms/step - loss: 0.0334 - mean_squared_error: 0.0334 - val_loss: 0.0355 - val_mean_squared_error: 0.0355\n",
      "Epoch 95/100\n",
      "75/75 [==============================] - 0s 7ms/step - loss: 0.0332 - mean_squared_error: 0.0332 - val_loss: 0.0330 - val_mean_squared_error: 0.0330\n",
      "Epoch 96/100\n",
      "75/75 [==============================] - 1s 7ms/step - loss: 0.0327 - mean_squared_error: 0.0327 - val_loss: 0.0327 - val_mean_squared_error: 0.0327\n",
      "Epoch 97/100\n",
      "75/75 [==============================] - 0s 6ms/step - loss: 0.0323 - mean_squared_error: 0.0323 - val_loss: 0.0319 - val_mean_squared_error: 0.0319\n",
      "Epoch 98/100\n",
      "75/75 [==============================] - 0s 6ms/step - loss: 0.0320 - mean_squared_error: 0.0320 - val_loss: 0.0317 - val_mean_squared_error: 0.0317\n",
      "Epoch 99/100\n",
      "75/75 [==============================] - 0s 7ms/step - loss: 0.0318 - mean_squared_error: 0.0318 - val_loss: 0.0310 - val_mean_squared_error: 0.0310\n",
      "Epoch 100/100\n",
      "75/75 [==============================] - 0s 7ms/step - loss: 0.0315 - mean_squared_error: 0.0315 - val_loss: 0.0335 - val_mean_squared_error: 0.0335\n"
     ]
    },
    {
     "data": {
      "text/plain": [
       "<keras.callbacks.History at 0x1e153be5ac0>"
      ]
     },
     "execution_count": 21,
     "metadata": {},
     "output_type": "execute_result"
    }
   ],
   "source": [
    "# Be careful: both input and output are \"housing_normal_std\" while training the autoencoder\n",
    "\n",
    "model.fit(good_x, good_x, \n",
    "          validation_data = (good_x, good_x),\n",
    "          epochs=100, batch_size=20, callbacks=callback)"
   ]
  },
  {
   "cell_type": "markdown",
   "metadata": {},
   "source": [
    "### Check the average MSE on the \"good\" loans"
   ]
  },
  {
   "cell_type": "code",
   "execution_count": 22,
   "metadata": {},
   "outputs": [
    {
     "name": "stdout",
     "output_type": "stream",
     "text": [
      "47/47 [==============================] - 0s 3ms/step - loss: 0.0335 - mean_squared_error: 0.0335\n"
     ]
    },
    {
     "data": {
      "text/plain": [
       "[0.033524978905916214, 0.033524978905916214]"
      ]
     },
     "execution_count": 22,
     "metadata": {},
     "output_type": "execute_result"
    }
   ],
   "source": [
    "model.evaluate(good_x, good_x)"
   ]
  },
  {
   "cell_type": "code",
   "execution_count": 23,
   "metadata": {},
   "outputs": [
    {
     "name": "stdout",
     "output_type": "stream",
     "text": [
      "47/47 [==============================] - 0s 3ms/step - loss: 0.0335 - mean_squared_error: 0.0335\n"
     ]
    },
    {
     "data": {
      "text/plain": [
       "3.3524978905916214"
      ]
     },
     "execution_count": 23,
     "metadata": {},
     "output_type": "execute_result"
    }
   ],
   "source": [
    "#Multiply by 100 to make sense of the error term:\n",
    "\n",
    "model.evaluate(good_x, good_x)[0]*100"
   ]
  },
  {
   "cell_type": "markdown",
   "metadata": {},
   "source": [
    "### Check the average MSE on the \"unknown\" data"
   ]
  },
  {
   "cell_type": "code",
   "execution_count": 24,
   "metadata": {},
   "outputs": [
    {
     "name": "stdout",
     "output_type": "stream",
     "text": [
      "32/32 [==============================] - 0s 3ms/step - loss: 0.1048 - mean_squared_error: 0.1048\n"
     ]
    },
    {
     "data": {
      "text/plain": [
       "[0.10479287058115005, 0.10479287058115005]"
      ]
     },
     "execution_count": 24,
     "metadata": {},
     "output_type": "execute_result"
    }
   ],
   "source": [
    "model.evaluate(unknown_x, unknown_x)"
   ]
  },
  {
   "cell_type": "code",
   "execution_count": 25,
   "metadata": {},
   "outputs": [
    {
     "name": "stdout",
     "output_type": "stream",
     "text": [
      "32/32 [==============================] - 0s 3ms/step - loss: 0.1048 - mean_squared_error: 0.1048\n"
     ]
    },
    {
     "data": {
      "text/plain": [
       "10.479287058115005"
      ]
     },
     "execution_count": 25,
     "metadata": {},
     "output_type": "execute_result"
    }
   ],
   "source": [
    "#Multiply by 100 to make sense of the error term:\n",
    "\n",
    "model.evaluate(unknown_x, unknown_x)[0]*100"
   ]
  },
  {
   "cell_type": "markdown",
   "metadata": {},
   "source": [
    "### Do you think the \"unknown\" loans look like good loans or not (justify your answer using the interpretation of the average MSE values)"
   ]
  },
  {
   "cell_type": "raw",
   "metadata": {},
   "source": [
    "The mse value of Good Loan is 3.3% \n",
    "The mse value of Unknown Loan is 10.4%\n",
    "\n",
    "Since the MSE on good loans is significantly smaller than the MSE on unknown loans, it indicates that the model performs better in predicting good loans than in predicting unknown loans. \n",
    "\n",
    "Therefore, based on the MSE values, it is likely that the \"unknown\" loans do not look like good loans, as the model is having a higher error in predicting them compared to the good loans. "
   ]
  },
  {
   "cell_type": "markdown",
   "metadata": {},
   "source": [
    "## Predict first 20 in Good loan Data "
   ]
  },
  {
   "cell_type": "code",
   "execution_count": 26,
   "metadata": {},
   "outputs": [
    {
     "name": "stdout",
     "output_type": "stream",
     "text": [
      "1/1 [==============================] - 0s 310ms/step\n",
      "1.1447358619132628\n",
      "1/1 [==============================] - 0s 72ms/step\n",
      "6.710941329281363\n",
      "1/1 [==============================] - 0s 75ms/step\n",
      "1.7493886154265483\n",
      "1/1 [==============================] - 0s 46ms/step\n",
      "2.794272889846644\n",
      "1/1 [==============================] - 0s 45ms/step\n",
      "2.165758455153841\n",
      "1/1 [==============================] - 0s 54ms/step\n",
      "1.4540517686304983\n",
      "1/1 [==============================] - 0s 54ms/step\n",
      "3.5854488441430563\n",
      "1/1 [==============================] - 0s 36ms/step\n",
      "3.8134174342674654\n",
      "1/1 [==============================] - 0s 46ms/step\n",
      "4.229177332165989\n",
      "1/1 [==============================] - 0s 55ms/step\n",
      "2.214754133679226\n",
      "1/1 [==============================] - 0s 55ms/step\n",
      "3.1546653367573967\n",
      "1/1 [==============================] - 0s 47ms/step\n",
      "1.8526556911548289\n",
      "1/1 [==============================] - 0s 43ms/step\n",
      "0.7799799842358753\n",
      "1/1 [==============================] - 0s 61ms/step\n",
      "2.158703231368238\n",
      "1/1 [==============================] - 0s 52ms/step\n",
      "0.9939540140559089\n",
      "1/1 [==============================] - 0s 46ms/step\n",
      "0.9662987886961563\n",
      "1/1 [==============================] - 0s 51ms/step\n",
      "1.75904916472768\n",
      "1/1 [==============================] - 0s 37ms/step\n",
      "3.6818375118626068\n",
      "1/1 [==============================] - 0s 45ms/step\n",
      "2.228305109012234\n",
      "1/1 [==============================] - 0s 47ms/step\n",
      "0.6982386096425754\n"
     ]
    }
   ],
   "source": [
    "#Good Loan\n",
    "from sklearn.metrics import mean_squared_error\n",
    "\n",
    "for i in range(0,20):\n",
    "    prediction = model.predict(good_x[i:i+1])\n",
    "    print((mean_squared_error(good_x[i:i+1], prediction))*100)\n",
    "\n",
    "    \n",
    "#Error terms are multiplied by 100 to make sense of the numbers"
   ]
  },
  {
   "cell_type": "markdown",
   "metadata": {},
   "source": [
    "## Predict first 20 in Unknown Loan Data"
   ]
  },
  {
   "cell_type": "code",
   "execution_count": 27,
   "metadata": {},
   "outputs": [
    {
     "name": "stdout",
     "output_type": "stream",
     "text": [
      "1/1 [==============================] - 0s 60ms/step\n",
      "8.710497619745567\n",
      "1/1 [==============================] - 0s 61ms/step\n",
      "5.149779130082891\n",
      "1/1 [==============================] - 0s 42ms/step\n",
      "9.108267697424113\n",
      "1/1 [==============================] - 0s 45ms/step\n",
      "1.6268869992382868\n",
      "1/1 [==============================] - 0s 41ms/step\n",
      "6.9620073390165444\n",
      "1/1 [==============================] - 0s 46ms/step\n",
      "4.1956270173706\n",
      "1/1 [==============================] - 0s 53ms/step\n",
      "3.1749272924612617\n",
      "1/1 [==============================] - 0s 48ms/step\n",
      "1.8754560078300029\n",
      "1/1 [==============================] - 0s 58ms/step\n",
      "179.36922748268097\n",
      "1/1 [==============================] - 0s 50ms/step\n",
      "8.831552561292877\n",
      "1/1 [==============================] - 0s 52ms/step\n",
      "4.4913470610409\n",
      "1/1 [==============================] - 0s 53ms/step\n",
      "4.035887130260505\n",
      "1/1 [==============================] - 0s 60ms/step\n",
      "6.757630305654952\n",
      "1/1 [==============================] - 0s 41ms/step\n",
      "1.0720638454585507\n",
      "1/1 [==============================] - 0s 53ms/step\n",
      "13.945160423235652\n",
      "1/1 [==============================] - 0s 58ms/step\n",
      "1.0380979796589875\n",
      "1/1 [==============================] - 0s 45ms/step\n",
      "16.830324619865653\n",
      "1/1 [==============================] - 0s 46ms/step\n",
      "3.454949343135325\n",
      "1/1 [==============================] - 0s 59ms/step\n",
      "5.360797473611144\n",
      "1/1 [==============================] - 0s 49ms/step\n",
      "0.7118106732949724\n"
     ]
    }
   ],
   "source": [
    "#Unknown Loan\n",
    "for i in range(0,20):\n",
    "    prediction = model.predict(unknown_x[i:i+1])\n",
    "    print((mean_squared_error(unknown_x[i:i+1], prediction))*100)\n",
    "\n",
    "    \n",
    "#Error terms are multiplied by 100 to make sense of the numbers"
   ]
  },
  {
   "cell_type": "code",
   "execution_count": null,
   "metadata": {},
   "outputs": [],
   "source": []
  }
 ],
 "metadata": {
  "kernelspec": {
   "display_name": "Python 3 (ipykernel)",
   "language": "python",
   "name": "python3"
  },
  "language_info": {
   "codemirror_mode": {
    "name": "ipython",
    "version": 3
   },
   "file_extension": ".py",
   "mimetype": "text/x-python",
   "name": "python",
   "nbconvert_exporter": "python",
   "pygments_lexer": "ipython3",
   "version": "3.9.12"
  },
  "nav_menu": {
   "height": "279px",
   "width": "309px"
  },
  "toc": {
   "base_numbering": 1,
   "nav_menu": {},
   "number_sections": false,
   "sideBar": true,
   "skip_h1_title": false,
   "title_cell": "Table of Contents",
   "title_sidebar": "Contents",
   "toc_cell": false,
   "toc_position": {},
   "toc_section_display": "block",
   "toc_window_display": true
  }
 },
 "nbformat": 4,
 "nbformat_minor": 1
}
