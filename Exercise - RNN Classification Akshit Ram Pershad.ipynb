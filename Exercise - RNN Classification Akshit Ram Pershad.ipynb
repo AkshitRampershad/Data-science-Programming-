{
 "cells": [
  {
   "cell_type": "markdown",
   "metadata": {},
   "source": [
    "# Exercise - RNN Classification\n",
    "\n",
    "In this notebook, we will perform a classification task using RNNs (i.e., a sequence to value prediction). We have hourly power consumption of households for 12 hours. Based on this, we will determine whether the power grid is strained (1) or not (0). \n",
    "\n",
    "Therefore, use the columns from `Hour 0` to `Hour 11` to predict the `target` column in the `power.csv` data set.\n",
    "\n",
    "Hint1: Use Tutorial 1 for help.\n",
    "\n",
    "Hint2: Don't forget to adjust the number of neurons in the input layers correctly. Otherwise, you will run into errors."
   ]
  },
  {
   "cell_type": "code",
   "execution_count": 53,
   "metadata": {},
   "outputs": [],
   "source": [
    "import tensorflow as tf\n",
    "from tensorflow import keras\n",
    "from sklearn.metrics import mean_squared_error\n",
    "\n",
    "\n",
    "# Common imports\n",
    "import numpy as np\n",
    "import os\n",
    "import pandas as pd\n",
    "\n",
    "# to make this notebook's output stable across runs\n",
    "np.random.seed(42)\n",
    "\n",
    "# To plot pretty figures\n",
    "%matplotlib inline\n",
    "import matplotlib as mpl\n",
    "import matplotlib.pyplot as plt\n",
    "mpl.rc('axes', labelsize=14)\n",
    "mpl.rc('xtick', labelsize=12)\n",
    "mpl.rc('ytick', labelsize=12)\n",
    "\n"
   ]
  },
  {
   "cell_type": "markdown",
   "metadata": {},
   "source": [
    "# Read the Dataset"
   ]
  },
  {
   "cell_type": "code",
   "execution_count": 54,
   "metadata": {},
   "outputs": [
    {
     "data": {
      "text/html": [
       "<div>\n",
       "<style scoped>\n",
       "    .dataframe tbody tr th:only-of-type {\n",
       "        vertical-align: middle;\n",
       "    }\n",
       "\n",
       "    .dataframe tbody tr th {\n",
       "        vertical-align: top;\n",
       "    }\n",
       "\n",
       "    .dataframe thead th {\n",
       "        text-align: right;\n",
       "    }\n",
       "</style>\n",
       "<table border=\"1\" class=\"dataframe\">\n",
       "  <thead>\n",
       "    <tr style=\"text-align: right;\">\n",
       "      <th></th>\n",
       "      <th>Hour 0</th>\n",
       "      <th>Hour 1</th>\n",
       "      <th>Hour 2</th>\n",
       "      <th>Hour 3</th>\n",
       "      <th>Hour 4</th>\n",
       "      <th>Hour 5</th>\n",
       "      <th>Hour 6</th>\n",
       "      <th>Hour 7</th>\n",
       "      <th>Hour 8</th>\n",
       "      <th>Hour 9</th>\n",
       "      <th>Hour 10</th>\n",
       "      <th>Hour 11</th>\n",
       "      <th>target</th>\n",
       "    </tr>\n",
       "  </thead>\n",
       "  <tbody>\n",
       "    <tr>\n",
       "      <th>0</th>\n",
       "      <td>2.550633</td>\n",
       "      <td>2.523400</td>\n",
       "      <td>2.582333</td>\n",
       "      <td>2.541667</td>\n",
       "      <td>2.475733</td>\n",
       "      <td>2.476233</td>\n",
       "      <td>2.455800</td>\n",
       "      <td>2.447200</td>\n",
       "      <td>2.441733</td>\n",
       "      <td>3.146133</td>\n",
       "      <td>2.661733</td>\n",
       "      <td>2.576000</td>\n",
       "      <td>1</td>\n",
       "    </tr>\n",
       "    <tr>\n",
       "      <th>1</th>\n",
       "      <td>1.596933</td>\n",
       "      <td>1.619567</td>\n",
       "      <td>2.473733</td>\n",
       "      <td>2.731133</td>\n",
       "      <td>2.431133</td>\n",
       "      <td>2.479667</td>\n",
       "      <td>1.690200</td>\n",
       "      <td>1.332133</td>\n",
       "      <td>1.375167</td>\n",
       "      <td>1.050900</td>\n",
       "      <td>0.585900</td>\n",
       "      <td>2.651900</td>\n",
       "      <td>1</td>\n",
       "    </tr>\n",
       "    <tr>\n",
       "      <th>2</th>\n",
       "      <td>0.534933</td>\n",
       "      <td>0.540467</td>\n",
       "      <td>0.575367</td>\n",
       "      <td>0.526500</td>\n",
       "      <td>0.521900</td>\n",
       "      <td>0.565333</td>\n",
       "      <td>1.426467</td>\n",
       "      <td>0.602067</td>\n",
       "      <td>0.547433</td>\n",
       "      <td>0.525067</td>\n",
       "      <td>1.270300</td>\n",
       "      <td>0.393767</td>\n",
       "      <td>0</td>\n",
       "    </tr>\n",
       "    <tr>\n",
       "      <th>3</th>\n",
       "      <td>1.085867</td>\n",
       "      <td>0.651233</td>\n",
       "      <td>0.634600</td>\n",
       "      <td>0.653000</td>\n",
       "      <td>0.646067</td>\n",
       "      <td>0.628400</td>\n",
       "      <td>0.611067</td>\n",
       "      <td>0.612533</td>\n",
       "      <td>0.660100</td>\n",
       "      <td>0.606067</td>\n",
       "      <td>1.471867</td>\n",
       "      <td>0.834533</td>\n",
       "      <td>0</td>\n",
       "    </tr>\n",
       "    <tr>\n",
       "      <th>4</th>\n",
       "      <td>0.456000</td>\n",
       "      <td>0.286300</td>\n",
       "      <td>0.310833</td>\n",
       "      <td>0.250933</td>\n",
       "      <td>0.277667</td>\n",
       "      <td>0.308633</td>\n",
       "      <td>0.610400</td>\n",
       "      <td>1.563533</td>\n",
       "      <td>1.421867</td>\n",
       "      <td>3.324400</td>\n",
       "      <td>3.207567</td>\n",
       "      <td>1.425433</td>\n",
       "      <td>1</td>\n",
       "    </tr>\n",
       "  </tbody>\n",
       "</table>\n",
       "</div>"
      ],
      "text/plain": [
       "     Hour 0    Hour 1    Hour 2    Hour 3    Hour 4    Hour 5    Hour 6  \\\n",
       "0  2.550633  2.523400  2.582333  2.541667  2.475733  2.476233  2.455800   \n",
       "1  1.596933  1.619567  2.473733  2.731133  2.431133  2.479667  1.690200   \n",
       "2  0.534933  0.540467  0.575367  0.526500  0.521900  0.565333  1.426467   \n",
       "3  1.085867  0.651233  0.634600  0.653000  0.646067  0.628400  0.611067   \n",
       "4  0.456000  0.286300  0.310833  0.250933  0.277667  0.308633  0.610400   \n",
       "\n",
       "     Hour 7    Hour 8    Hour 9   Hour 10   Hour 11  target  \n",
       "0  2.447200  2.441733  3.146133  2.661733  2.576000       1  \n",
       "1  1.332133  1.375167  1.050900  0.585900  2.651900       1  \n",
       "2  0.602067  0.547433  0.525067  1.270300  0.393767       0  \n",
       "3  0.612533  0.660100  0.606067  1.471867  0.834533       0  \n",
       "4  1.563533  1.421867  3.324400  3.207567  1.425433       1  "
      ]
     },
     "execution_count": 54,
     "metadata": {},
     "output_type": "execute_result"
    }
   ],
   "source": [
    "power = pd.read_csv('power.csv')\n",
    "\n",
    "power.head()"
   ]
  },
  {
   "cell_type": "code",
   "execution_count": 55,
   "metadata": {},
   "outputs": [
    {
     "data": {
      "text/plain": [
       "(1417, 13)"
      ]
     },
     "execution_count": 55,
     "metadata": {},
     "output_type": "execute_result"
    }
   ],
   "source": [
    "power.shape"
   ]
  },
  {
   "cell_type": "markdown",
   "metadata": {},
   "source": [
    "# Split the Data\n",
    "\n"
   ]
  },
  {
   "cell_type": "code",
   "execution_count": 56,
   "metadata": {},
   "outputs": [],
   "source": [
    "# First 1000 days are for train\n",
    "train = power.iloc[:1000]\n",
    "\n",
    "# Remaining 417 days are for test\n",
    "test = power.iloc[-417:]"
   ]
  },
  {
   "cell_type": "code",
   "execution_count": 57,
   "metadata": {},
   "outputs": [
    {
     "data": {
      "text/plain": [
       "(1000, 13)"
      ]
     },
     "execution_count": 57,
     "metadata": {},
     "output_type": "execute_result"
    }
   ],
   "source": [
    "train.shape"
   ]
  },
  {
   "cell_type": "code",
   "execution_count": 58,
   "metadata": {},
   "outputs": [
    {
     "data": {
      "text/plain": [
       "(417, 13)"
      ]
     },
     "execution_count": 58,
     "metadata": {},
     "output_type": "execute_result"
    }
   ],
   "source": [
    "test.shape"
   ]
  },
  {
   "cell_type": "markdown",
   "metadata": {},
   "source": [
    "# Create Input and Target values\n",
    "\n",
    "The first 12 columns (hourly data) will be input to predict the last column (i.e., target)"
   ]
  },
  {
   "cell_type": "code",
   "execution_count": 59,
   "metadata": {},
   "outputs": [],
   "source": [
    "# The first 12 columns (from 0 to 11) are inputs\n",
    "\n",
    "train_inputs = train.iloc[:,:12]"
   ]
  },
  {
   "cell_type": "markdown",
   "metadata": {},
   "source": [
    "## Add one more dimension to make it ready for RNNs"
   ]
  },
  {
   "cell_type": "code",
   "execution_count": 60,
   "metadata": {},
   "outputs": [
    {
     "data": {
      "text/plain": [
       "(1000, 12, 1)"
      ]
     },
     "execution_count": 60,
     "metadata": {},
     "output_type": "execute_result"
    }
   ],
   "source": [
    "#Create an additional dimension for train\n",
    "\n",
    "train_x = np.array(train_inputs).reshape(1000,12,1)\n",
    "\n",
    "train_x.shape "
   ]
  },
  {
   "cell_type": "markdown",
   "metadata": {},
   "source": [
    "## Set the target"
   ]
  },
  {
   "cell_type": "code",
   "execution_count": 61,
   "metadata": {},
   "outputs": [],
   "source": [
    "# The last column is TARGET\n",
    "\n",
    "train_target = train.iloc[:,-1]"
   ]
  },
  {
   "cell_type": "markdown",
   "metadata": {},
   "source": [
    "## Repeat for TEST"
   ]
  },
  {
   "cell_type": "code",
   "execution_count": 62,
   "metadata": {},
   "outputs": [
    {
     "data": {
      "text/plain": [
       "(417, 13)"
      ]
     },
     "execution_count": 62,
     "metadata": {},
     "output_type": "execute_result"
    }
   ],
   "source": [
    "test.shape"
   ]
  },
  {
   "cell_type": "code",
   "execution_count": 63,
   "metadata": {},
   "outputs": [],
   "source": [
    "# The first 12 columns are inputs\n",
    "\n",
    "test_inputs = test.iloc[:,:12]"
   ]
  },
  {
   "cell_type": "code",
   "execution_count": 64,
   "metadata": {},
   "outputs": [
    {
     "data": {
      "text/plain": [
       "(417, 12, 1)"
      ]
     },
     "execution_count": 64,
     "metadata": {},
     "output_type": "execute_result"
    }
   ],
   "source": [
    "#Create an additional dimension for test\n",
    "\n",
    "test_x = np.array(test_inputs).reshape(417,12,1)\n",
    "\n",
    "test_x.shape "
   ]
  },
  {
   "cell_type": "code",
   "execution_count": 65,
   "metadata": {},
   "outputs": [],
   "source": [
    "# The last column is TARGET\n",
    "\n",
    "test_target = test.iloc[:,-1]"
   ]
  },
  {
   "cell_type": "markdown",
   "metadata": {},
   "source": [
    "# Build a normal (cross-sectional) NN\n",
    "\n",
    "This model assumes that the data is NOT a time-series data set. It treats the data as cross-sectional and the columns being independent of each other."
   ]
  },
  {
   "cell_type": "code",
   "execution_count": 66,
   "metadata": {},
   "outputs": [],
   "source": [
    "model = keras.models.Sequential([\n",
    "    \n",
    "    keras.layers.Flatten(input_shape=[12, 1]),\n",
    "    keras.layers.Dense(12, activation='relu'),\n",
    "    keras.layers.Dense(1, activation='sigmoid')\n",
    "    \n",
    "])"
   ]
  },
  {
   "cell_type": "code",
   "execution_count": 67,
   "metadata": {},
   "outputs": [
    {
     "name": "stdout",
     "output_type": "stream",
     "text": [
      "Epoch 1/20\n",
      "32/32 [==============================] - 2s 9ms/step - loss: 0.6468 - accuracy: 0.6100 - val_loss: 0.6251 - val_accuracy: 0.6787\n",
      "Epoch 2/20\n",
      "32/32 [==============================] - 0s 3ms/step - loss: 0.5778 - accuracy: 0.7290 - val_loss: 0.5717 - val_accuracy: 0.6978\n",
      "Epoch 3/20\n",
      "32/32 [==============================] - 0s 3ms/step - loss: 0.5209 - accuracy: 0.7430 - val_loss: 0.5621 - val_accuracy: 0.7170\n",
      "Epoch 4/20\n",
      "32/32 [==============================] - 0s 3ms/step - loss: 0.4970 - accuracy: 0.7500 - val_loss: 0.5269 - val_accuracy: 0.7074\n",
      "Epoch 5/20\n",
      "32/32 [==============================] - 0s 3ms/step - loss: 0.4743 - accuracy: 0.7640 - val_loss: 0.5244 - val_accuracy: 0.7074\n",
      "Epoch 6/20\n",
      "32/32 [==============================] - 0s 3ms/step - loss: 0.4709 - accuracy: 0.7460 - val_loss: 0.5359 - val_accuracy: 0.6954\n",
      "Epoch 7/20\n",
      "32/32 [==============================] - 0s 3ms/step - loss: 0.4643 - accuracy: 0.7540 - val_loss: 0.5173 - val_accuracy: 0.7338\n",
      "Epoch 8/20\n",
      "32/32 [==============================] - 0s 3ms/step - loss: 0.4584 - accuracy: 0.7540 - val_loss: 0.5160 - val_accuracy: 0.7314\n",
      "Epoch 9/20\n",
      "32/32 [==============================] - 0s 3ms/step - loss: 0.4548 - accuracy: 0.7600 - val_loss: 0.5318 - val_accuracy: 0.7482\n",
      "Epoch 10/20\n",
      "32/32 [==============================] - 0s 3ms/step - loss: 0.4544 - accuracy: 0.7530 - val_loss: 0.5165 - val_accuracy: 0.7314\n",
      "Epoch 11/20\n",
      "32/32 [==============================] - 0s 3ms/step - loss: 0.4495 - accuracy: 0.7660 - val_loss: 0.5179 - val_accuracy: 0.7290\n",
      "Epoch 12/20\n",
      "32/32 [==============================] - 0s 3ms/step - loss: 0.4518 - accuracy: 0.7640 - val_loss: 0.5144 - val_accuracy: 0.7266\n",
      "Epoch 13/20\n",
      "32/32 [==============================] - 0s 3ms/step - loss: 0.4441 - accuracy: 0.7690 - val_loss: 0.5614 - val_accuracy: 0.7026\n",
      "Epoch 14/20\n",
      "32/32 [==============================] - 0s 3ms/step - loss: 0.4506 - accuracy: 0.7660 - val_loss: 0.5219 - val_accuracy: 0.7458\n",
      "Epoch 15/20\n",
      "32/32 [==============================] - 0s 3ms/step - loss: 0.4452 - accuracy: 0.7580 - val_loss: 0.5307 - val_accuracy: 0.7194\n",
      "Epoch 16/20\n",
      "32/32 [==============================] - 0s 3ms/step - loss: 0.4480 - accuracy: 0.7570 - val_loss: 0.5200 - val_accuracy: 0.7170\n",
      "Epoch 17/20\n",
      "32/32 [==============================] - 0s 3ms/step - loss: 0.4386 - accuracy: 0.7750 - val_loss: 0.5411 - val_accuracy: 0.7314\n",
      "Epoch 18/20\n",
      "32/32 [==============================] - 0s 3ms/step - loss: 0.4478 - accuracy: 0.7630 - val_loss: 0.5297 - val_accuracy: 0.7530\n",
      "Epoch 19/20\n",
      "32/32 [==============================] - 0s 3ms/step - loss: 0.4412 - accuracy: 0.7710 - val_loss: 0.5299 - val_accuracy: 0.7098\n",
      "Epoch 20/20\n",
      "32/32 [==============================] - 0s 3ms/step - loss: 0.4436 - accuracy: 0.7850 - val_loss: 0.5350 - val_accuracy: 0.7122\n"
     ]
    }
   ],
   "source": [
    "np.random.seed(42)\n",
    "tf.random.set_seed(42)\n",
    "\n",
    "optimizer = tf.keras.optimizers.Nadam(learning_rate=0.01)\n",
    "\n",
    "# If multiclass, use \"sparse_categorical_crossentropy\" as the loss function\n",
    "model.compile(loss=\"binary_crossentropy\", optimizer=optimizer, metrics=['accuracy'])\n",
    "\n",
    "\n",
    "history = model.fit(train_x, train_target, epochs=20,\n",
    "                    validation_data=(test_x, test_target))"
   ]
  },
  {
   "cell_type": "code",
   "execution_count": 68,
   "metadata": {},
   "outputs": [
    {
     "data": {
      "text/plain": [
       "[0.535049319267273, 0.7122302055358887]"
      ]
     },
     "execution_count": 68,
     "metadata": {},
     "output_type": "execute_result"
    }
   ],
   "source": [
    "# evaluate the model\n",
    "\n",
    "scores = model.evaluate(test_x, test_target, verbose=0)\n",
    "\n",
    "scores\n",
    "\n",
    "# In results, first is loss, second is accuracy"
   ]
  },
  {
   "cell_type": "code",
   "execution_count": 69,
   "metadata": {},
   "outputs": [
    {
     "name": "stdout",
     "output_type": "stream",
     "text": [
      "loss: 0.54\n",
      "accuracy: 71.22%\n"
     ]
    }
   ],
   "source": [
    "# extract the accuracy from model.evaluate\n",
    "\n",
    "print(\"%s: %.2f\" % (model.metrics_names[0], scores[0]))\n",
    "print(\"%s: %.2f%%\" % (model.metrics_names[1], scores[1]*100))\n"
   ]
  },
  {
   "cell_type": "markdown",
   "metadata": {},
   "source": [
    "# Build a simple RNN with one layer"
   ]
  },
  {
   "cell_type": "code",
   "execution_count": 96,
   "metadata": {},
   "outputs": [],
   "source": [
    "n_steps = 12\n",
    "n_inputs = 1\n",
    "\n",
    "\n",
    "model = keras.models.Sequential([\n",
    "    \n",
    "    keras.layers.SimpleRNN(12, input_shape=[n_steps, n_inputs]),\n",
    "    keras.layers.Dense(1, activation='sigmoid')\n",
    "])"
   ]
  },
  {
   "cell_type": "code",
   "execution_count": 97,
   "metadata": {},
   "outputs": [],
   "source": [
    "from tensorflow.keras.callbacks import EarlyStopping\n",
    "\n",
    "\n",
    "earlystop = EarlyStopping(monitor='val_loss', patience=5, verbose=1, mode='auto')\n",
    "\n",
    "callback = [earlystop]"
   ]
  },
  {
   "cell_type": "code",
   "execution_count": 98,
   "metadata": {},
   "outputs": [
    {
     "name": "stdout",
     "output_type": "stream",
     "text": [
      "Epoch 1/50\n",
      "32/32 [==============================] - 3s 15ms/step - loss: 0.6080 - accuracy: 0.6700 - val_loss: 0.5513 - val_accuracy: 0.7314\n",
      "Epoch 2/50\n",
      "32/32 [==============================] - 0s 5ms/step - loss: 0.5005 - accuracy: 0.7410 - val_loss: 0.5918 - val_accuracy: 0.7002\n",
      "Epoch 3/50\n",
      "32/32 [==============================] - 0s 5ms/step - loss: 0.4995 - accuracy: 0.7420 - val_loss: 0.5758 - val_accuracy: 0.7074\n",
      "Epoch 4/50\n",
      "32/32 [==============================] - 0s 5ms/step - loss: 0.4930 - accuracy: 0.7540 - val_loss: 0.5243 - val_accuracy: 0.7266\n",
      "Epoch 5/50\n",
      "32/32 [==============================] - 0s 5ms/step - loss: 0.4821 - accuracy: 0.7570 - val_loss: 0.5354 - val_accuracy: 0.7146\n",
      "Epoch 6/50\n",
      "32/32 [==============================] - 0s 5ms/step - loss: 0.4858 - accuracy: 0.7560 - val_loss: 0.5504 - val_accuracy: 0.7050\n",
      "Epoch 7/50\n",
      "32/32 [==============================] - 0s 5ms/step - loss: 0.4873 - accuracy: 0.7570 - val_loss: 0.5072 - val_accuracy: 0.7506\n",
      "Epoch 8/50\n",
      "32/32 [==============================] - 0s 5ms/step - loss: 0.4815 - accuracy: 0.7530 - val_loss: 0.5134 - val_accuracy: 0.7314\n",
      "Epoch 9/50\n",
      "32/32 [==============================] - 0s 5ms/step - loss: 0.4745 - accuracy: 0.7560 - val_loss: 0.5571 - val_accuracy: 0.7098\n",
      "Epoch 10/50\n",
      "32/32 [==============================] - 0s 5ms/step - loss: 0.4839 - accuracy: 0.7590 - val_loss: 0.5164 - val_accuracy: 0.7338\n",
      "Epoch 11/50\n",
      "32/32 [==============================] - 0s 5ms/step - loss: 0.4741 - accuracy: 0.7580 - val_loss: 0.5106 - val_accuracy: 0.7482\n",
      "Epoch 12/50\n",
      "32/32 [==============================] - 0s 5ms/step - loss: 0.4757 - accuracy: 0.7670 - val_loss: 0.5071 - val_accuracy: 0.7434\n",
      "Epoch 13/50\n",
      "32/32 [==============================] - 0s 5ms/step - loss: 0.4610 - accuracy: 0.7700 - val_loss: 0.5748 - val_accuracy: 0.6978\n",
      "Epoch 14/50\n",
      "32/32 [==============================] - 0s 5ms/step - loss: 0.4753 - accuracy: 0.7510 - val_loss: 0.5221 - val_accuracy: 0.7674\n",
      "Epoch 15/50\n",
      "32/32 [==============================] - 0s 5ms/step - loss: 0.4653 - accuracy: 0.7620 - val_loss: 0.5038 - val_accuracy: 0.7578\n",
      "Epoch 16/50\n",
      "32/32 [==============================] - 0s 5ms/step - loss: 0.4718 - accuracy: 0.7550 - val_loss: 0.5103 - val_accuracy: 0.7314\n",
      "Epoch 17/50\n",
      "32/32 [==============================] - 0s 5ms/step - loss: 0.4609 - accuracy: 0.7680 - val_loss: 0.5679 - val_accuracy: 0.7122\n",
      "Epoch 18/50\n",
      "32/32 [==============================] - 0s 5ms/step - loss: 0.4805 - accuracy: 0.7430 - val_loss: 0.5263 - val_accuracy: 0.7434\n",
      "Epoch 19/50\n",
      "32/32 [==============================] - 0s 5ms/step - loss: 0.4733 - accuracy: 0.7660 - val_loss: 0.5076 - val_accuracy: 0.7362\n",
      "Epoch 20/50\n",
      "32/32 [==============================] - 0s 5ms/step - loss: 0.4697 - accuracy: 0.7620 - val_loss: 0.5036 - val_accuracy: 0.7650\n",
      "Epoch 21/50\n",
      "32/32 [==============================] - 0s 5ms/step - loss: 0.4692 - accuracy: 0.7690 - val_loss: 0.5232 - val_accuracy: 0.7530\n",
      "Epoch 22/50\n",
      "32/32 [==============================] - 0s 5ms/step - loss: 0.4759 - accuracy: 0.7600 - val_loss: 0.5127 - val_accuracy: 0.7578\n",
      "Epoch 23/50\n",
      "32/32 [==============================] - 0s 5ms/step - loss: 0.4639 - accuracy: 0.7570 - val_loss: 0.5694 - val_accuracy: 0.7146\n",
      "Epoch 24/50\n",
      "32/32 [==============================] - 0s 5ms/step - loss: 0.4807 - accuracy: 0.7610 - val_loss: 0.5016 - val_accuracy: 0.7602\n",
      "Epoch 25/50\n",
      "32/32 [==============================] - 0s 5ms/step - loss: 0.4696 - accuracy: 0.7510 - val_loss: 0.5163 - val_accuracy: 0.7506\n",
      "Epoch 26/50\n",
      "32/32 [==============================] - 0s 5ms/step - loss: 0.4659 - accuracy: 0.7570 - val_loss: 0.4983 - val_accuracy: 0.7626\n",
      "Epoch 27/50\n",
      "32/32 [==============================] - 0s 5ms/step - loss: 0.4558 - accuracy: 0.7710 - val_loss: 0.5619 - val_accuracy: 0.7074\n",
      "Epoch 28/50\n",
      "32/32 [==============================] - 0s 5ms/step - loss: 0.4769 - accuracy: 0.7450 - val_loss: 0.5120 - val_accuracy: 0.7338\n",
      "Epoch 29/50\n",
      "32/32 [==============================] - 0s 5ms/step - loss: 0.4592 - accuracy: 0.7690 - val_loss: 0.5333 - val_accuracy: 0.7410\n",
      "Epoch 30/50\n",
      "32/32 [==============================] - 0s 5ms/step - loss: 0.4581 - accuracy: 0.7670 - val_loss: 0.5096 - val_accuracy: 0.7386\n",
      "Epoch 31/50\n",
      "32/32 [==============================] - 0s 5ms/step - loss: 0.4492 - accuracy: 0.7710 - val_loss: 0.5214 - val_accuracy: 0.7314\n",
      "Epoch 31: early stopping\n"
     ]
    }
   ],
   "source": [
    "np.random.seed(42)\n",
    "tf.random.set_seed(42)\n",
    "\n",
    "optimizer = tf.keras.optimizers.Nadam(learning_rate=0.01)\n",
    "\n",
    "# If multiclass, use \"sparse_categorical_crossentropy\" as the loss function\n",
    "model.compile(loss=\"binary_crossentropy\", optimizer=optimizer, metrics=['accuracy'])\n",
    "\n",
    "\n",
    "history = model.fit(train_x, train_target, epochs=50,\n",
    "                    validation_data=(test_x, test_target), callbacks=callback)"
   ]
  },
  {
   "cell_type": "code",
   "execution_count": 100,
   "metadata": {},
   "outputs": [
    {
     "data": {
      "text/plain": [
       "[0.5214211940765381, 0.7314148545265198]"
      ]
     },
     "execution_count": 100,
     "metadata": {},
     "output_type": "execute_result"
    }
   ],
   "source": [
    "# evaluate the model\n",
    "\n",
    "scores = model.evaluate(test_x, test_target, verbose=0)\n",
    "\n",
    "scores\n",
    "\n",
    "# In results, first is loss, second is accuracy"
   ]
  },
  {
   "cell_type": "code",
   "execution_count": 101,
   "metadata": {},
   "outputs": [
    {
     "name": "stdout",
     "output_type": "stream",
     "text": [
      "loss: 0.52\n",
      "accuracy: 73.14%\n"
     ]
    }
   ],
   "source": [
    "# extract the accuracy from model.evaluate\n",
    "\n",
    "print(\"%s: %.2f\" % (model.metrics_names[0], scores[0]))\n",
    "print(\"%s: %.2f%%\" % (model.metrics_names[1], scores[1]*100))\n"
   ]
  },
  {
   "cell_type": "code",
   "execution_count": 102,
   "metadata": {},
   "outputs": [
    {
     "name": "stdout",
     "output_type": "stream",
     "text": [
      "14/14 [==============================] - 0s 2ms/step\n"
     ]
    }
   ],
   "source": [
    "# Predictions are probabilities.\n",
    "\n",
    "predictions = model.predict(test_x)"
   ]
  },
  {
   "cell_type": "markdown",
   "metadata": {},
   "source": [
    "# Build a simple RNN with two or more layers"
   ]
  },
  {
   "cell_type": "code",
   "execution_count": 103,
   "metadata": {},
   "outputs": [],
   "source": [
    "n_steps = 12\n",
    "n_inputs = 1\n",
    "\n",
    "\n",
    "model = keras.models.Sequential([\n",
    "    keras.layers.SimpleRNN(12, return_sequences=True, input_shape=[n_steps, n_inputs] ),\n",
    "    keras.layers.SimpleRNN(12, return_sequences=True),\n",
    "    keras.layers.SimpleRNN(12), \n",
    "    keras.layers.Dense(1, activation='sigmoid')\n",
    "])\n"
   ]
  },
  {
   "cell_type": "code",
   "execution_count": 104,
   "metadata": {},
   "outputs": [
    {
     "name": "stdout",
     "output_type": "stream",
     "text": [
      "Epoch 1/20\n",
      "32/32 [==============================] - 5s 26ms/step - loss: 0.5569 - accuracy: 0.7010 - val_loss: 0.5503 - val_accuracy: 0.7506\n",
      "Epoch 2/20\n",
      "32/32 [==============================] - 0s 9ms/step - loss: 0.4892 - accuracy: 0.7510 - val_loss: 0.5650 - val_accuracy: 0.6978\n",
      "Epoch 3/20\n",
      "32/32 [==============================] - 0s 10ms/step - loss: 0.4774 - accuracy: 0.7550 - val_loss: 0.7805 - val_accuracy: 0.6115\n",
      "Epoch 4/20\n",
      "32/32 [==============================] - 0s 14ms/step - loss: 0.5001 - accuracy: 0.7400 - val_loss: 0.5344 - val_accuracy: 0.7194\n",
      "Epoch 5/20\n",
      "32/32 [==============================] - 0s 10ms/step - loss: 0.4617 - accuracy: 0.7810 - val_loss: 0.5311 - val_accuracy: 0.7146\n",
      "Epoch 6/20\n",
      "32/32 [==============================] - 0s 10ms/step - loss: 0.4558 - accuracy: 0.7720 - val_loss: 0.4934 - val_accuracy: 0.7530\n",
      "Epoch 7/20\n",
      "32/32 [==============================] - 0s 10ms/step - loss: 0.4393 - accuracy: 0.7800 - val_loss: 0.4862 - val_accuracy: 0.7506\n",
      "Epoch 8/20\n",
      "32/32 [==============================] - 0s 10ms/step - loss: 0.4363 - accuracy: 0.7830 - val_loss: 0.5030 - val_accuracy: 0.7434\n",
      "Epoch 9/20\n",
      "32/32 [==============================] - 0s 10ms/step - loss: 0.4311 - accuracy: 0.7770 - val_loss: 0.5711 - val_accuracy: 0.6906\n",
      "Epoch 10/20\n",
      "32/32 [==============================] - 0s 9ms/step - loss: 0.4359 - accuracy: 0.7870 - val_loss: 0.5294 - val_accuracy: 0.7362\n",
      "Epoch 11/20\n",
      "32/32 [==============================] - 0s 11ms/step - loss: 0.4350 - accuracy: 0.7850 - val_loss: 0.4829 - val_accuracy: 0.7602\n",
      "Epoch 12/20\n",
      "32/32 [==============================] - 0s 10ms/step - loss: 0.4290 - accuracy: 0.7920 - val_loss: 0.5010 - val_accuracy: 0.7458\n",
      "Epoch 13/20\n",
      "32/32 [==============================] - 0s 9ms/step - loss: 0.4246 - accuracy: 0.7950 - val_loss: 0.5207 - val_accuracy: 0.7266\n",
      "Epoch 14/20\n",
      "32/32 [==============================] - 0s 10ms/step - loss: 0.4180 - accuracy: 0.7960 - val_loss: 0.5134 - val_accuracy: 0.7386\n",
      "Epoch 15/20\n",
      "32/32 [==============================] - 0s 11ms/step - loss: 0.4416 - accuracy: 0.7810 - val_loss: 0.4919 - val_accuracy: 0.7482\n",
      "Epoch 16/20\n",
      "32/32 [==============================] - 0s 10ms/step - loss: 0.4166 - accuracy: 0.7950 - val_loss: 0.5085 - val_accuracy: 0.7290\n",
      "Epoch 16: early stopping\n"
     ]
    }
   ],
   "source": [
    "np.random.seed(42)\n",
    "tf.random.set_seed(42)\n",
    "\n",
    "optimizer = keras.optimizers.Nadam(learning_rate=0.01)\n",
    "\n",
    "model.compile(loss=\"binary_crossentropy\", optimizer=optimizer, metrics=['accuracy'])\n",
    "\n",
    "history = model.fit(train_x, train_target, epochs=20,\n",
    "                   validation_data = (test_x, test_target), callbacks=callback)"
   ]
  },
  {
   "cell_type": "code",
   "execution_count": 105,
   "metadata": {},
   "outputs": [
    {
     "data": {
      "text/plain": [
       "[0.5084664225578308, 0.7290167808532715]"
      ]
     },
     "execution_count": 105,
     "metadata": {},
     "output_type": "execute_result"
    }
   ],
   "source": [
    "# evaluate the model\n",
    "\n",
    "scores = model.evaluate(test_x, test_target, verbose=0)\n",
    "\n",
    "scores\n",
    "\n",
    "# In results, first is loss, second is accuracy"
   ]
  },
  {
   "cell_type": "code",
   "execution_count": 106,
   "metadata": {},
   "outputs": [
    {
     "name": "stdout",
     "output_type": "stream",
     "text": [
      "loss: 0.51\n",
      "accuracy: 72.90%\n"
     ]
    }
   ],
   "source": [
    "# extract the accuracy from model.evaluate\n",
    "\n",
    "print(\"%s: %.2f\" % (model.metrics_names[0], scores[0]))\n",
    "print(\"%s: %.2f%%\" % (model.metrics_names[1], scores[1]*100))\n"
   ]
  },
  {
   "cell_type": "markdown",
   "metadata": {},
   "source": [
    "# Build a LSTM with one layer"
   ]
  },
  {
   "cell_type": "code",
   "execution_count": 107,
   "metadata": {},
   "outputs": [],
   "source": [
    "n_steps = 12\n",
    "n_inputs = 1\n",
    "\n",
    "model = keras.models.Sequential([\n",
    "    \n",
    "    keras.layers.LSTM(12, input_shape=[n_steps, n_inputs]),\n",
    "    keras.layers.Dense(1, activation='sigmoid')\n",
    "])"
   ]
  },
  {
   "cell_type": "code",
   "execution_count": 108,
   "metadata": {},
   "outputs": [
    {
     "name": "stdout",
     "output_type": "stream",
     "text": [
      "Epoch 1/50\n",
      "32/32 [==============================] - 4s 29ms/step - loss: 0.6140 - accuracy: 0.6520 - val_loss: 0.5628 - val_accuracy: 0.7098\n",
      "Epoch 2/50\n",
      "32/32 [==============================] - 0s 8ms/step - loss: 0.4927 - accuracy: 0.7470 - val_loss: 0.5599 - val_accuracy: 0.6954\n",
      "Epoch 3/50\n",
      "32/32 [==============================] - 0s 8ms/step - loss: 0.4783 - accuracy: 0.7540 - val_loss: 0.5776 - val_accuracy: 0.7074\n",
      "Epoch 4/50\n",
      "32/32 [==============================] - 0s 9ms/step - loss: 0.4787 - accuracy: 0.7640 - val_loss: 0.5254 - val_accuracy: 0.7146\n",
      "Epoch 5/50\n",
      "32/32 [==============================] - 0s 8ms/step - loss: 0.4639 - accuracy: 0.7620 - val_loss: 0.5211 - val_accuracy: 0.7146\n",
      "Epoch 6/50\n",
      "32/32 [==============================] - 0s 9ms/step - loss: 0.4676 - accuracy: 0.7570 - val_loss: 0.5227 - val_accuracy: 0.7098\n",
      "Epoch 7/50\n",
      "32/32 [==============================] - 0s 8ms/step - loss: 0.4636 - accuracy: 0.7550 - val_loss: 0.5130 - val_accuracy: 0.7530\n",
      "Epoch 8/50\n",
      "32/32 [==============================] - 0s 8ms/step - loss: 0.4607 - accuracy: 0.7670 - val_loss: 0.5087 - val_accuracy: 0.7170\n",
      "Epoch 9/50\n",
      "32/32 [==============================] - 0s 8ms/step - loss: 0.4599 - accuracy: 0.7600 - val_loss: 0.5301 - val_accuracy: 0.7602\n",
      "Epoch 10/50\n",
      "32/32 [==============================] - 0s 8ms/step - loss: 0.4586 - accuracy: 0.7640 - val_loss: 0.5066 - val_accuracy: 0.7338\n",
      "Epoch 11/50\n",
      "32/32 [==============================] - 0s 9ms/step - loss: 0.4555 - accuracy: 0.7660 - val_loss: 0.5104 - val_accuracy: 0.7290\n",
      "Epoch 12/50\n",
      "32/32 [==============================] - 0s 9ms/step - loss: 0.4570 - accuracy: 0.7630 - val_loss: 0.5090 - val_accuracy: 0.7314\n",
      "Epoch 13/50\n",
      "32/32 [==============================] - 0s 9ms/step - loss: 0.4511 - accuracy: 0.7750 - val_loss: 0.5415 - val_accuracy: 0.7122\n",
      "Epoch 14/50\n",
      "32/32 [==============================] - 0s 8ms/step - loss: 0.4590 - accuracy: 0.7620 - val_loss: 0.5032 - val_accuracy: 0.7482\n",
      "Epoch 15/50\n",
      "32/32 [==============================] - 0s 9ms/step - loss: 0.4524 - accuracy: 0.7770 - val_loss: 0.5130 - val_accuracy: 0.7242\n",
      "Epoch 16/50\n",
      "32/32 [==============================] - 0s 9ms/step - loss: 0.4520 - accuracy: 0.7720 - val_loss: 0.5113 - val_accuracy: 0.7194\n",
      "Epoch 17/50\n",
      "32/32 [==============================] - 0s 9ms/step - loss: 0.4456 - accuracy: 0.7720 - val_loss: 0.5454 - val_accuracy: 0.7554\n",
      "Epoch 18/50\n",
      "32/32 [==============================] - 0s 9ms/step - loss: 0.4553 - accuracy: 0.7620 - val_loss: 0.5108 - val_accuracy: 0.7770\n",
      "Epoch 19/50\n",
      "32/32 [==============================] - 0s 9ms/step - loss: 0.4501 - accuracy: 0.7800 - val_loss: 0.5091 - val_accuracy: 0.7266\n",
      "Epoch 19: early stopping\n"
     ]
    }
   ],
   "source": [
    "np.random.seed(42)\n",
    "tf.random.set_seed(42)\n",
    "\n",
    "optimizer = keras.optimizers.Nadam(learning_rate=0.01)\n",
    "\n",
    "model.compile(loss=\"binary_crossentropy\", optimizer=optimizer, metrics=['accuracy'])\n",
    "\n",
    "history = model.fit(train_x, train_target, epochs=50,\n",
    "                   validation_data = (test_x, test_target), callbacks=callback)"
   ]
  },
  {
   "cell_type": "code",
   "execution_count": 109,
   "metadata": {},
   "outputs": [
    {
     "data": {
      "text/plain": [
       "[0.5091004371643066, 0.7266187071800232]"
      ]
     },
     "execution_count": 109,
     "metadata": {},
     "output_type": "execute_result"
    }
   ],
   "source": [
    "# evaluate the model\n",
    "\n",
    "scores = model.evaluate(test_x, test_target, verbose=0)\n",
    "\n",
    "scores\n",
    "\n",
    "# In results, first is loss, second is accuracy"
   ]
  },
  {
   "cell_type": "code",
   "execution_count": 110,
   "metadata": {},
   "outputs": [
    {
     "name": "stdout",
     "output_type": "stream",
     "text": [
      "loss: 0.51\n",
      "accuracy: 72.66%\n"
     ]
    }
   ],
   "source": [
    "# extract the accuracy from model.evaluate\n",
    "\n",
    "print(\"%s: %.2f\" % (model.metrics_names[0], scores[0]))\n",
    "print(\"%s: %.2f%%\" % (model.metrics_names[1], scores[1]*100))\n"
   ]
  },
  {
   "cell_type": "markdown",
   "metadata": {},
   "source": [
    "# Build a LSTM with two or more layers"
   ]
  },
  {
   "cell_type": "code",
   "execution_count": 111,
   "metadata": {},
   "outputs": [],
   "source": [
    "n_steps = 12\n",
    "n_inputs = 1\n",
    "\n",
    "model = keras.models.Sequential([\n",
    "    keras.layers.LSTM(12, return_sequences=True, input_shape=[n_steps, n_inputs]),\n",
    "    keras.layers.LSTM(12, return_sequences=True),\n",
    "    keras.layers.LSTM(12),\n",
    "    keras.layers.Dense(1, activation='sigmoid')\n",
    "])"
   ]
  },
  {
   "cell_type": "code",
   "execution_count": 85,
   "metadata": {},
   "outputs": [
    {
     "name": "stdout",
     "output_type": "stream",
     "text": [
      "Epoch 1/20\n",
      "32/32 [==============================] - 11s 68ms/step - loss: 0.6238 - accuracy: 0.6490 - val_loss: 0.6476 - val_accuracy: 0.6811\n",
      "Epoch 2/20\n",
      "32/32 [==============================] - 1s 24ms/step - loss: 0.5247 - accuracy: 0.7340 - val_loss: 0.6347 - val_accuracy: 0.6787\n",
      "Epoch 3/20\n",
      "32/32 [==============================] - 1s 26ms/step - loss: 0.4981 - accuracy: 0.7500 - val_loss: 0.7459 - val_accuracy: 0.5923\n",
      "Epoch 4/20\n",
      "32/32 [==============================] - 1s 25ms/step - loss: 0.5004 - accuracy: 0.7380 - val_loss: 0.5039 - val_accuracy: 0.7170\n",
      "Epoch 5/20\n",
      "32/32 [==============================] - 1s 20ms/step - loss: 0.4679 - accuracy: 0.7660 - val_loss: 0.5416 - val_accuracy: 0.7170\n",
      "Epoch 6/20\n",
      "32/32 [==============================] - 1s 21ms/step - loss: 0.4736 - accuracy: 0.7500 - val_loss: 0.5031 - val_accuracy: 0.7146\n",
      "Epoch 7/20\n",
      "32/32 [==============================] - 1s 21ms/step - loss: 0.4638 - accuracy: 0.7540 - val_loss: 0.4980 - val_accuracy: 0.7530\n",
      "Epoch 8/20\n",
      "32/32 [==============================] - 1s 21ms/step - loss: 0.4586 - accuracy: 0.7480 - val_loss: 0.4959 - val_accuracy: 0.7290\n",
      "Epoch 9/20\n",
      "32/32 [==============================] - 1s 21ms/step - loss: 0.4538 - accuracy: 0.7490 - val_loss: 0.5062 - val_accuracy: 0.7650\n",
      "Epoch 10/20\n",
      "32/32 [==============================] - 1s 21ms/step - loss: 0.4532 - accuracy: 0.7680 - val_loss: 0.4980 - val_accuracy: 0.7626\n",
      "Epoch 11/20\n",
      "32/32 [==============================] - 1s 21ms/step - loss: 0.4463 - accuracy: 0.7730 - val_loss: 0.5283 - val_accuracy: 0.7530\n",
      "Epoch 12/20\n",
      "32/32 [==============================] - 1s 21ms/step - loss: 0.4542 - accuracy: 0.7660 - val_loss: 0.4942 - val_accuracy: 0.7458\n",
      "Epoch 13/20\n",
      "32/32 [==============================] - 1s 21ms/step - loss: 0.4397 - accuracy: 0.7790 - val_loss: 0.5164 - val_accuracy: 0.7194\n",
      "Epoch 14/20\n",
      "32/32 [==============================] - 1s 21ms/step - loss: 0.4382 - accuracy: 0.7740 - val_loss: 0.5025 - val_accuracy: 0.7770\n",
      "Epoch 15/20\n",
      "32/32 [==============================] - 1s 21ms/step - loss: 0.4333 - accuracy: 0.7820 - val_loss: 0.4990 - val_accuracy: 0.7722\n",
      "Epoch 16/20\n",
      "32/32 [==============================] - 1s 21ms/step - loss: 0.4314 - accuracy: 0.7740 - val_loss: 0.5045 - val_accuracy: 0.7386\n",
      "Epoch 17/20\n",
      "32/32 [==============================] - 1s 21ms/step - loss: 0.4231 - accuracy: 0.7850 - val_loss: 0.5332 - val_accuracy: 0.7482\n",
      "Epoch 17: early stopping\n"
     ]
    }
   ],
   "source": [
    "np.random.seed(42)\n",
    "tf.random.set_seed(42)\n",
    "\n",
    "optimizer = keras.optimizers.Nadam(learning_rate=0.01)\n",
    "\n",
    "model.compile(loss=\"binary_crossentropy\", optimizer=optimizer, metrics=['accuracy'])\n",
    "\n",
    "history = model.fit(train_x, train_target, epochs=20,\n",
    "                   validation_data = (test_x, test_target), callbacks=callback)"
   ]
  },
  {
   "cell_type": "code",
   "execution_count": 86,
   "metadata": {},
   "outputs": [
    {
     "data": {
      "text/plain": [
       "[0.5331521034240723, 0.7482014298439026]"
      ]
     },
     "execution_count": 86,
     "metadata": {},
     "output_type": "execute_result"
    }
   ],
   "source": [
    "# evaluate the model\n",
    "\n",
    "scores = model.evaluate(test_x, test_target, verbose=0)\n",
    "\n",
    "scores\n",
    "\n",
    "# In results, first is loss, second is accuracy"
   ]
  },
  {
   "cell_type": "code",
   "execution_count": 87,
   "metadata": {},
   "outputs": [
    {
     "name": "stdout",
     "output_type": "stream",
     "text": [
      "loss: 0.53\n",
      "accuracy: 74.82%\n"
     ]
    }
   ],
   "source": [
    "# extract the accuracy from model.evaluate\n",
    "\n",
    "print(\"%s: %.2f\" % (model.metrics_names[0], scores[0]))\n",
    "print(\"%s: %.2f%%\" % (model.metrics_names[1], scores[1]*100))\n"
   ]
  },
  {
   "cell_type": "markdown",
   "metadata": {},
   "source": [
    "# Build a GRU with one layer"
   ]
  },
  {
   "cell_type": "code",
   "execution_count": 112,
   "metadata": {},
   "outputs": [],
   "source": [
    "n_steps = 12\n",
    "n_inputs = 1\n",
    "\n",
    "model = keras.models.Sequential([\n",
    "    keras.layers.GRU(12, input_shape=[n_steps, n_inputs]),\n",
    "    keras.layers.Dense(1, activation='sigmoid')\n",
    "])"
   ]
  },
  {
   "cell_type": "code",
   "execution_count": 89,
   "metadata": {},
   "outputs": [
    {
     "name": "stdout",
     "output_type": "stream",
     "text": [
      "Epoch 1/20\n",
      "32/32 [==============================] - 5s 29ms/step - loss: 0.5529 - accuracy: 0.7120 - val_loss: 0.5602 - val_accuracy: 0.7314\n",
      "Epoch 2/20\n",
      "32/32 [==============================] - 0s 9ms/step - loss: 0.4763 - accuracy: 0.7480 - val_loss: 0.5628 - val_accuracy: 0.6978\n",
      "Epoch 3/20\n",
      "32/32 [==============================] - 0s 9ms/step - loss: 0.4730 - accuracy: 0.7440 - val_loss: 0.6590 - val_accuracy: 0.6619\n",
      "Epoch 4/20\n",
      "32/32 [==============================] - 0s 9ms/step - loss: 0.4773 - accuracy: 0.7610 - val_loss: 0.5424 - val_accuracy: 0.7122\n",
      "Epoch 5/20\n",
      "32/32 [==============================] - 0s 9ms/step - loss: 0.4674 - accuracy: 0.7570 - val_loss: 0.5283 - val_accuracy: 0.7074\n",
      "Epoch 6/20\n",
      "32/32 [==============================] - 0s 9ms/step - loss: 0.4684 - accuracy: 0.7520 - val_loss: 0.5127 - val_accuracy: 0.7122\n",
      "Epoch 7/20\n",
      "32/32 [==============================] - 0s 9ms/step - loss: 0.4625 - accuracy: 0.7560 - val_loss: 0.5007 - val_accuracy: 0.7434\n",
      "Epoch 8/20\n",
      "32/32 [==============================] - 0s 9ms/step - loss: 0.4546 - accuracy: 0.7590 - val_loss: 0.4998 - val_accuracy: 0.7314\n",
      "Epoch 9/20\n",
      "32/32 [==============================] - 0s 9ms/step - loss: 0.4542 - accuracy: 0.7540 - val_loss: 0.5269 - val_accuracy: 0.7482\n",
      "Epoch 10/20\n",
      "32/32 [==============================] - 0s 9ms/step - loss: 0.4543 - accuracy: 0.7620 - val_loss: 0.4992 - val_accuracy: 0.7434\n",
      "Epoch 11/20\n",
      "32/32 [==============================] - 0s 9ms/step - loss: 0.4490 - accuracy: 0.7730 - val_loss: 0.5048 - val_accuracy: 0.7554\n",
      "Epoch 12/20\n",
      "32/32 [==============================] - 0s 10ms/step - loss: 0.4505 - accuracy: 0.7650 - val_loss: 0.5040 - val_accuracy: 0.7458\n",
      "Epoch 13/20\n",
      "32/32 [==============================] - 0s 10ms/step - loss: 0.4495 - accuracy: 0.7700 - val_loss: 0.5296 - val_accuracy: 0.7122\n",
      "Epoch 14/20\n",
      "32/32 [==============================] - 0s 10ms/step - loss: 0.4519 - accuracy: 0.7640 - val_loss: 0.4969 - val_accuracy: 0.7650\n",
      "Epoch 15/20\n",
      "32/32 [==============================] - 0s 9ms/step - loss: 0.4423 - accuracy: 0.7730 - val_loss: 0.5011 - val_accuracy: 0.7482\n",
      "Epoch 16/20\n",
      "32/32 [==============================] - 0s 9ms/step - loss: 0.4417 - accuracy: 0.7640 - val_loss: 0.5033 - val_accuracy: 0.7362\n",
      "Epoch 17/20\n",
      "32/32 [==============================] - 0s 10ms/step - loss: 0.4378 - accuracy: 0.7780 - val_loss: 0.5820 - val_accuracy: 0.7290\n",
      "Epoch 18/20\n",
      "32/32 [==============================] - 0s 10ms/step - loss: 0.4439 - accuracy: 0.7700 - val_loss: 0.5009 - val_accuracy: 0.7674\n",
      "Epoch 19/20\n",
      "32/32 [==============================] - 0s 10ms/step - loss: 0.4386 - accuracy: 0.7710 - val_loss: 0.5144 - val_accuracy: 0.7362\n",
      "Epoch 19: early stopping\n"
     ]
    }
   ],
   "source": [
    "np.random.seed(42)\n",
    "tf.random.set_seed(42)\n",
    "\n",
    "optimizer = keras.optimizers.Nadam(learning_rate=0.01)\n",
    "\n",
    "model.compile(loss=\"binary_crossentropy\", optimizer=optimizer, metrics=['accuracy'])\n",
    "\n",
    "history = model.fit(train_x, train_target, epochs=20,\n",
    "                   validation_data = (test_x, test_target), callbacks=callback)"
   ]
  },
  {
   "cell_type": "code",
   "execution_count": 90,
   "metadata": {},
   "outputs": [
    {
     "data": {
      "text/plain": [
       "[0.5144416689872742, 0.7362110018730164]"
      ]
     },
     "execution_count": 90,
     "metadata": {},
     "output_type": "execute_result"
    }
   ],
   "source": [
    "# evaluate the model\n",
    "\n",
    "scores = model.evaluate(test_x, test_target, verbose=0)\n",
    "\n",
    "scores\n",
    "\n",
    "# In results, first is loss, second is accuracy"
   ]
  },
  {
   "cell_type": "code",
   "execution_count": 91,
   "metadata": {},
   "outputs": [
    {
     "name": "stdout",
     "output_type": "stream",
     "text": [
      "loss: 0.51\n",
      "accuracy: 73.62%\n"
     ]
    }
   ],
   "source": [
    "# extract the accuracy from model.evaluate\n",
    "\n",
    "print(\"%s: %.2f\" % (model.metrics_names[0], scores[0]))\n",
    "print(\"%s: %.2f%%\" % (model.metrics_names[1], scores[1]*100))\n"
   ]
  },
  {
   "cell_type": "markdown",
   "metadata": {},
   "source": [
    "# Build a GRU with two or more layers"
   ]
  },
  {
   "cell_type": "code",
   "execution_count": 116,
   "metadata": {},
   "outputs": [],
   "source": [
    "n_steps = 12\n",
    "n_inputs = 1\n",
    "\n",
    "model = keras.models.Sequential([\n",
    "    keras.layers.GRU(12, return_sequences=True, input_shape=[n_steps, n_inputs]),\n",
    "    keras.layers.GRU(12, return_sequences=True),\n",
    "    keras.layers.GRU(12),\n",
    "    keras.layers.Dense(1, activation='sigmoid')\n",
    "])"
   ]
  },
  {
   "cell_type": "code",
   "execution_count": 117,
   "metadata": {},
   "outputs": [
    {
     "name": "stdout",
     "output_type": "stream",
     "text": [
      "Epoch 1/20\n",
      "32/32 [==============================] - 12s 68ms/step - loss: 0.5701 - accuracy: 0.7050 - val_loss: 0.5602 - val_accuracy: 0.7338\n",
      "Epoch 2/20\n",
      "32/32 [==============================] - 1s 22ms/step - loss: 0.5010 - accuracy: 0.7340 - val_loss: 0.5623 - val_accuracy: 0.7050\n",
      "Epoch 3/20\n",
      "32/32 [==============================] - 1s 22ms/step - loss: 0.4840 - accuracy: 0.7480 - val_loss: 0.6450 - val_accuracy: 0.6379\n",
      "Epoch 4/20\n",
      "32/32 [==============================] - 1s 22ms/step - loss: 0.5004 - accuracy: 0.7460 - val_loss: 0.5218 - val_accuracy: 0.6978\n",
      "Epoch 5/20\n",
      "32/32 [==============================] - 1s 22ms/step - loss: 0.4694 - accuracy: 0.7520 - val_loss: 0.5569 - val_accuracy: 0.7122\n",
      "Epoch 6/20\n",
      "32/32 [==============================] - 1s 23ms/step - loss: 0.4714 - accuracy: 0.7500 - val_loss: 0.5189 - val_accuracy: 0.7218\n",
      "Epoch 7/20\n",
      "32/32 [==============================] - 1s 21ms/step - loss: 0.4619 - accuracy: 0.7630 - val_loss: 0.4993 - val_accuracy: 0.7482\n",
      "Epoch 8/20\n",
      "32/32 [==============================] - 1s 23ms/step - loss: 0.4551 - accuracy: 0.7580 - val_loss: 0.4988 - val_accuracy: 0.7290\n",
      "Epoch 9/20\n",
      "32/32 [==============================] - 1s 23ms/step - loss: 0.4561 - accuracy: 0.7630 - val_loss: 0.5435 - val_accuracy: 0.7242\n",
      "Epoch 10/20\n",
      "32/32 [==============================] - 1s 22ms/step - loss: 0.4566 - accuracy: 0.7640 - val_loss: 0.4996 - val_accuracy: 0.7578\n",
      "Epoch 11/20\n",
      "32/32 [==============================] - 1s 23ms/step - loss: 0.4487 - accuracy: 0.7740 - val_loss: 0.5067 - val_accuracy: 0.7674\n",
      "Epoch 12/20\n",
      "32/32 [==============================] - 1s 23ms/step - loss: 0.4502 - accuracy: 0.7690 - val_loss: 0.5036 - val_accuracy: 0.7410\n",
      "Epoch 13/20\n",
      "32/32 [==============================] - 1s 22ms/step - loss: 0.4432 - accuracy: 0.7750 - val_loss: 0.5420 - val_accuracy: 0.7050\n",
      "Epoch 13: early stopping\n"
     ]
    }
   ],
   "source": [
    "np.random.seed(42)\n",
    "tf.random.set_seed(42)\n",
    "\n",
    "optimizer = keras.optimizers.Nadam(learning_rate=0.01)\n",
    "\n",
    "model.compile(loss=\"binary_crossentropy\", optimizer=optimizer, metrics=['accuracy'])\n",
    "\n",
    "history = model.fit(train_x, train_target, epochs=20,\n",
    "                   validation_data = (test_x, test_target), callbacks=callback)"
   ]
  },
  {
   "cell_type": "code",
   "execution_count": 118,
   "metadata": {},
   "outputs": [
    {
     "data": {
      "text/plain": [
       "[0.5419779419898987, 0.7050359845161438]"
      ]
     },
     "execution_count": 118,
     "metadata": {},
     "output_type": "execute_result"
    }
   ],
   "source": [
    "# evaluate the model\n",
    "\n",
    "scores = model.evaluate(test_x, test_target, verbose=0)\n",
    "\n",
    "scores\n",
    "\n",
    "# In results, first is loss, second is accuracy"
   ]
  },
  {
   "cell_type": "code",
   "execution_count": 119,
   "metadata": {},
   "outputs": [
    {
     "name": "stdout",
     "output_type": "stream",
     "text": [
      "loss: 0.54\n",
      "accuracy: 70.50%\n"
     ]
    }
   ],
   "source": [
    "# extract the accuracy from model.evaluate\n",
    "\n",
    "print(\"%s: %.2f\" % (model.metrics_names[0], scores[0]))\n",
    "print(\"%s: %.2f%%\" % (model.metrics_names[1], scores[1]*100))\n"
   ]
  },
  {
   "cell_type": "code",
   "execution_count": null,
   "metadata": {},
   "outputs": [],
   "source": []
  },
  {
   "cell_type": "code",
   "execution_count": null,
   "metadata": {},
   "outputs": [],
   "source": []
  }
 ],
 "metadata": {
  "kernelspec": {
   "display_name": "Python 3 (ipykernel)",
   "language": "python",
   "name": "python3"
  },
  "language_info": {
   "codemirror_mode": {
    "name": "ipython",
    "version": 3
   },
   "file_extension": ".py",
   "mimetype": "text/x-python",
   "name": "python",
   "nbconvert_exporter": "python",
   "pygments_lexer": "ipython3",
   "version": "3.9.12"
  },
  "nav_menu": {},
  "toc": {
   "base_numbering": 1,
   "nav_menu": {},
   "number_sections": false,
   "sideBar": true,
   "skip_h1_title": false,
   "title_cell": "Table of Contents",
   "title_sidebar": "Contents",
   "toc_cell": false,
   "toc_position": {},
   "toc_section_display": "block",
   "toc_window_display": false
  },
  "varInspector": {
   "cols": {
    "lenName": 16,
    "lenType": 16,
    "lenVar": 40
   },
   "kernels_config": {
    "python": {
     "delete_cmd_postfix": "",
     "delete_cmd_prefix": "del ",
     "library": "var_list.py",
     "varRefreshCmd": "print(var_dic_list())"
    },
    "r": {
     "delete_cmd_postfix": ") ",
     "delete_cmd_prefix": "rm(",
     "library": "var_list.r",
     "varRefreshCmd": "cat(var_dic_list()) "
    }
   },
   "types_to_exclude": [
    "module",
    "function",
    "builtin_function_or_method",
    "instance",
    "_Feature"
   ],
   "window_display": false
  }
 },
 "nbformat": 4,
 "nbformat_minor": 1
}
